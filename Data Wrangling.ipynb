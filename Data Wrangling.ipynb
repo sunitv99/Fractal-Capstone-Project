{
  "nbformat": 4,
  "nbformat_minor": 0,
  "metadata": {
    "colab": {
      "name": "Fractal2.ipynb",
      "provenance": [],
      "collapsed_sections": []
    },
    "kernelspec": {
      "name": "python3",
      "display_name": "Python 3"
    }
  },
  "cells": [
    {
      "cell_type": "markdown",
      "metadata": {
        "id": "ehMXw4t4SN4C",
        "colab_type": "text"
      },
      "source": [
        "**Name: Sunit Vaidya**\n",
        "\n",
        "**Class: TE IT**\n",
        "\n",
        "**UID: 2017140062**\n"
      ]
    },
    {
      "cell_type": "markdown",
      "metadata": {
        "id": "vX0mneFv-upN",
        "colab_type": "text"
      },
      "source": [
        "### **Note :**\n",
        "* You will need the below 3 datasets to work on the questions : \n",
        "  * **ipl_matches.csv**\n",
        "  * **ipl_batting.csv**\n",
        "  * **ipl_deliveries.csv**"
      ]
    },
    {
      "cell_type": "markdown",
      "metadata": {
        "id": "kVRYiJzvvP62",
        "colab_type": "text"
      },
      "source": [
        "### **Question 1**\n",
        "Write **Python** code for the following\n",
        "* Read the **ipl_matches.csv** dataset\n",
        "* Display **data-type** of each column\n",
        "* Define **granularity** for the dataset **ipl_matches**\n",
        "* Write code to create a **primary key** as a **new column** for the dataset \n",
        "  * Convert match_date into the format **YYYYMMDD**\n",
        "  * Depending upon whether the given match is the **1st** of **2nd** for the day, append a string **01 or 02** to the end\n",
        "  * **Ex.** if 2 matches took place on 18-04-2009 then the primary key of the 1st match should look like **2009041801** and second match as **2009041802**\n",
        "--------------------"
      ]
    },
    {
      "cell_type": "code",
      "metadata": {
        "id": "19IRRqQkeBDb",
        "colab_type": "code",
        "colab": {}
      },
      "source": [
        "import numpy as np\n",
        "import pandas as pd\n",
        "import os"
      ],
      "execution_count": 1,
      "outputs": []
    },
    {
      "cell_type": "code",
      "metadata": {
        "id": "E2e8xibE0r0P",
        "colab_type": "code",
        "colab": {
          "base_uri": "https://localhost:8080/",
          "height": 121
        },
        "outputId": "5cae5f98-6b58-4790-d507-2fbf8158a793"
      },
      "source": [
        "from google.colab import drive\n",
        "drive.mount('/content/drive')"
      ],
      "execution_count": 2,
      "outputs": [
        {
          "output_type": "stream",
          "text": [
            "Go to this URL in a browser: https://accounts.google.com/o/oauth2/auth?client_id=947318989803-6bn6qk8qdgf4n4g3pfee6491hc0brc4i.apps.googleusercontent.com&redirect_uri=urn%3aietf%3awg%3aoauth%3a2.0%3aoob&response_type=code&scope=email%20https%3a%2f%2fwww.googleapis.com%2fauth%2fdocs.test%20https%3a%2f%2fwww.googleapis.com%2fauth%2fdrive%20https%3a%2f%2fwww.googleapis.com%2fauth%2fdrive.photos.readonly%20https%3a%2f%2fwww.googleapis.com%2fauth%2fpeopleapi.readonly\n",
            "\n",
            "Enter your authorization code:\n",
            "··········\n",
            "Mounted at /content/drive\n"
          ],
          "name": "stdout"
        }
      ]
    },
    {
      "cell_type": "code",
      "metadata": {
        "id": "Z8HI_mfA0jIz",
        "colab_type": "code",
        "colab": {}
      },
      "source": [
        "dfmat = pd.read_csv('drive/My Drive/data/ipl_matches.csv')"
      ],
      "execution_count": 3,
      "outputs": []
    },
    {
      "cell_type": "code",
      "metadata": {
        "id": "YPaUrx52i_iY",
        "colab_type": "code",
        "colab": {
          "base_uri": "https://localhost:8080/",
          "height": 252
        },
        "outputId": "47ecaf12-2872-4b73-ccae-cb04cb670134"
      },
      "source": [
        "dfmat.dtypes"
      ],
      "execution_count": 4,
      "outputs": [
        {
          "output_type": "execute_result",
          "data": {
            "text/plain": [
              "match_date        object\n",
              "Ground            object\n",
              "Team 1            object\n",
              "Team 2            object\n",
              "Winner            object\n",
              "year               int64\n",
              "month              int64\n",
              "day                int64\n",
              "win_mode          object\n",
              "margin           float64\n",
              "toss_winner       object\n",
              "toss_decision     object\n",
              "match_no           int64\n",
              "dtype: object"
            ]
          },
          "metadata": {
            "tags": []
          },
          "execution_count": 4
        }
      ]
    },
    {
      "cell_type": "code",
      "metadata": {
        "id": "z6iT0UaJ2BNM",
        "colab_type": "code",
        "colab": {
          "base_uri": "https://localhost:8080/",
          "height": 34
        },
        "outputId": "f5995c37-787c-4aef-aba7-d00a87770b0c"
      },
      "source": [
        "dfmat.match_no.nunique()"
      ],
      "execution_count": 5,
      "outputs": [
        {
          "output_type": "execute_result",
          "data": {
            "text/plain": [
              "763"
            ]
          },
          "metadata": {
            "tags": []
          },
          "execution_count": 5
        }
      ]
    },
    {
      "cell_type": "code",
      "metadata": {
        "id": "gQmBO0k94rGT",
        "colab_type": "code",
        "colab": {}
      },
      "source": [
        "vals = dfmat.match_date.str.replace('-','').values"
      ],
      "execution_count": 6,
      "outputs": []
    },
    {
      "cell_type": "code",
      "metadata": {
        "id": "fwNqowlS5Qf4",
        "colab_type": "code",
        "colab": {}
      },
      "source": [
        "pk = []\n",
        "\n",
        "pk.append(vals[0]+'01')\n",
        "for i, val in enumerate(vals[1:]):\n",
        "    if val == vals[i]:\n",
        "        pk.append(val+'02')\n",
        "    else:\n",
        "        pk.append(val+'01')"
      ],
      "execution_count": 7,
      "outputs": []
    },
    {
      "cell_type": "code",
      "metadata": {
        "id": "QvJ1Idt_8Fqg",
        "colab_type": "code",
        "colab": {
          "base_uri": "https://localhost:8080/",
          "height": 34
        },
        "outputId": "7b6d6194-e6ac-4248-bfe7-15c66d683372"
      },
      "source": [
        "dfmat['primary key'] = pd.Series(pk).apply(lambda x: int(x))\n",
        "dfmat['primary key'].nunique()"
      ],
      "execution_count": 8,
      "outputs": [
        {
          "output_type": "execute_result",
          "data": {
            "text/plain": [
              "763"
            ]
          },
          "metadata": {
            "tags": []
          },
          "execution_count": 8
        }
      ]
    },
    {
      "cell_type": "code",
      "metadata": {
        "id": "ZZjme8Hp8zOv",
        "colab_type": "code",
        "colab": {
          "base_uri": "https://localhost:8080/",
          "height": 262
        },
        "outputId": "aa51282d-8ffa-4076-b6b4-a7f05406c727"
      },
      "source": [
        "dfmat.head()"
      ],
      "execution_count": 9,
      "outputs": [
        {
          "output_type": "execute_result",
          "data": {
            "text/html": [
              "<div>\n",
              "<style scoped>\n",
              "    .dataframe tbody tr th:only-of-type {\n",
              "        vertical-align: middle;\n",
              "    }\n",
              "\n",
              "    .dataframe tbody tr th {\n",
              "        vertical-align: top;\n",
              "    }\n",
              "\n",
              "    .dataframe thead th {\n",
              "        text-align: right;\n",
              "    }\n",
              "</style>\n",
              "<table border=\"1\" class=\"dataframe\">\n",
              "  <thead>\n",
              "    <tr style=\"text-align: right;\">\n",
              "      <th></th>\n",
              "      <th>match_date</th>\n",
              "      <th>Ground</th>\n",
              "      <th>Team 1</th>\n",
              "      <th>Team 2</th>\n",
              "      <th>Winner</th>\n",
              "      <th>year</th>\n",
              "      <th>month</th>\n",
              "      <th>day</th>\n",
              "      <th>win_mode</th>\n",
              "      <th>margin</th>\n",
              "      <th>toss_winner</th>\n",
              "      <th>toss_decision</th>\n",
              "      <th>match_no</th>\n",
              "      <th>primary key</th>\n",
              "    </tr>\n",
              "  </thead>\n",
              "  <tbody>\n",
              "    <tr>\n",
              "      <th>0</th>\n",
              "      <td>2008-04-18</td>\n",
              "      <td>Bengaluru, Bangalore</td>\n",
              "      <td>Royal Challengers Bangalore</td>\n",
              "      <td>Kolkata Knight Riders</td>\n",
              "      <td>Kolkata Knight Riders</td>\n",
              "      <td>2008</td>\n",
              "      <td>4</td>\n",
              "      <td>18</td>\n",
              "      <td>Runs</td>\n",
              "      <td>140.0</td>\n",
              "      <td>Royal Challengers Bangalore</td>\n",
              "      <td>field first</td>\n",
              "      <td>1</td>\n",
              "      <td>2008041801</td>\n",
              "    </tr>\n",
              "    <tr>\n",
              "      <th>1</th>\n",
              "      <td>2008-04-19</td>\n",
              "      <td>Mohali, Chandigarh</td>\n",
              "      <td>Kings XI Punjab</td>\n",
              "      <td>Chennai Super Kings</td>\n",
              "      <td>Chennai Super Kings</td>\n",
              "      <td>2008</td>\n",
              "      <td>4</td>\n",
              "      <td>19</td>\n",
              "      <td>Runs</td>\n",
              "      <td>33.0</td>\n",
              "      <td>Chennai Super Kings</td>\n",
              "      <td>bat first</td>\n",
              "      <td>2</td>\n",
              "      <td>2008041901</td>\n",
              "    </tr>\n",
              "    <tr>\n",
              "      <th>2</th>\n",
              "      <td>2008-04-19</td>\n",
              "      <td>Delhi</td>\n",
              "      <td>Delhi Capitals</td>\n",
              "      <td>Rajasthan Royals</td>\n",
              "      <td>Delhi Capitals</td>\n",
              "      <td>2008</td>\n",
              "      <td>4</td>\n",
              "      <td>19</td>\n",
              "      <td>Wickets</td>\n",
              "      <td>9.0</td>\n",
              "      <td>Rajasthan Royals</td>\n",
              "      <td>bat first</td>\n",
              "      <td>3</td>\n",
              "      <td>2008041902</td>\n",
              "    </tr>\n",
              "    <tr>\n",
              "      <th>3</th>\n",
              "      <td>2008-04-20</td>\n",
              "      <td>Kolkata</td>\n",
              "      <td>Kolkata Knight Riders</td>\n",
              "      <td>Deccan Chargers</td>\n",
              "      <td>Kolkata Knight Riders</td>\n",
              "      <td>2008</td>\n",
              "      <td>4</td>\n",
              "      <td>20</td>\n",
              "      <td>Wickets</td>\n",
              "      <td>5.0</td>\n",
              "      <td>Deccan Chargers</td>\n",
              "      <td>bat first</td>\n",
              "      <td>4</td>\n",
              "      <td>2008042001</td>\n",
              "    </tr>\n",
              "    <tr>\n",
              "      <th>4</th>\n",
              "      <td>2008-04-20</td>\n",
              "      <td>Mumbai</td>\n",
              "      <td>Mumbai Indians</td>\n",
              "      <td>Royal Challengers Bangalore</td>\n",
              "      <td>Royal Challengers Bangalore</td>\n",
              "      <td>2008</td>\n",
              "      <td>4</td>\n",
              "      <td>20</td>\n",
              "      <td>Wickets</td>\n",
              "      <td>5.0</td>\n",
              "      <td>Mumbai Indians</td>\n",
              "      <td>bat first</td>\n",
              "      <td>5</td>\n",
              "      <td>2008042002</td>\n",
              "    </tr>\n",
              "  </tbody>\n",
              "</table>\n",
              "</div>"
            ],
            "text/plain": [
              "   match_date                Ground  ... match_no primary key\n",
              "0  2008-04-18  Bengaluru, Bangalore  ...        1  2008041801\n",
              "1  2008-04-19    Mohali, Chandigarh  ...        2  2008041901\n",
              "2  2008-04-19                 Delhi  ...        3  2008041902\n",
              "3  2008-04-20               Kolkata  ...        4  2008042001\n",
              "4  2008-04-20                Mumbai  ...        5  2008042002\n",
              "\n",
              "[5 rows x 14 columns]"
            ]
          },
          "metadata": {
            "tags": []
          },
          "execution_count": 9
        }
      ]
    },
    {
      "cell_type": "markdown",
      "metadata": {
        "id": "34Cmk_TSrYQJ",
        "colab_type": "text"
      },
      "source": [
        "### **Question 2** \n",
        "Let's look at the below statement : <br>\n",
        "**It is said that you win half the match if you win the toss** <br><br>\n",
        "So, let's understand to what extent teams who **won the toss** also **won the matches**\n",
        "  * Write code to find out **% matches by team** (across all seasons) where they **won the toss**\n",
        "  * What **% of matches** which the teams **won the toss also ended up winning the matches**?\n",
        "  * Exhibit the above as a **% of total matches**\n",
        "  * Which team tops the chart? Meaning which team took full advantage of the opportunity of winning the toss\n",
        "\n",
        "**Ex :** If CSK played a total of **100** matches and won toss in **70** of them. This would mean **70%** of tosses were won by them. Now, if out of these 70 they ended up winning **28** of them then they won **40%** of the matches where they had won the toss. This is **28%** of total matches"
      ]
    },
    {
      "cell_type": "code",
      "metadata": {
        "id": "lgYXbVWmk7B4",
        "colab_type": "code",
        "colab": {
          "base_uri": "https://localhost:8080/",
          "height": 262
        },
        "outputId": "31841e1e-7faf-4b17-e120-0207859c6c05"
      },
      "source": [
        "dfmat.head()"
      ],
      "execution_count": 14,
      "outputs": [
        {
          "output_type": "execute_result",
          "data": {
            "text/html": [
              "<div>\n",
              "<style scoped>\n",
              "    .dataframe tbody tr th:only-of-type {\n",
              "        vertical-align: middle;\n",
              "    }\n",
              "\n",
              "    .dataframe tbody tr th {\n",
              "        vertical-align: top;\n",
              "    }\n",
              "\n",
              "    .dataframe thead th {\n",
              "        text-align: right;\n",
              "    }\n",
              "</style>\n",
              "<table border=\"1\" class=\"dataframe\">\n",
              "  <thead>\n",
              "    <tr style=\"text-align: right;\">\n",
              "      <th></th>\n",
              "      <th>match_date</th>\n",
              "      <th>Ground</th>\n",
              "      <th>Team 1</th>\n",
              "      <th>Team 2</th>\n",
              "      <th>Winner</th>\n",
              "      <th>year</th>\n",
              "      <th>month</th>\n",
              "      <th>day</th>\n",
              "      <th>win_mode</th>\n",
              "      <th>margin</th>\n",
              "      <th>toss_winner</th>\n",
              "      <th>toss_decision</th>\n",
              "      <th>match_no</th>\n",
              "      <th>primary key</th>\n",
              "    </tr>\n",
              "  </thead>\n",
              "  <tbody>\n",
              "    <tr>\n",
              "      <th>0</th>\n",
              "      <td>2008-04-18</td>\n",
              "      <td>Bengaluru, Bangalore</td>\n",
              "      <td>Royal Challengers Bangalore</td>\n",
              "      <td>Kolkata Knight Riders</td>\n",
              "      <td>Kolkata Knight Riders</td>\n",
              "      <td>2008</td>\n",
              "      <td>4</td>\n",
              "      <td>18</td>\n",
              "      <td>Runs</td>\n",
              "      <td>140.0</td>\n",
              "      <td>Royal Challengers Bangalore</td>\n",
              "      <td>field first</td>\n",
              "      <td>1</td>\n",
              "      <td>2008041801</td>\n",
              "    </tr>\n",
              "    <tr>\n",
              "      <th>1</th>\n",
              "      <td>2008-04-19</td>\n",
              "      <td>Mohali, Chandigarh</td>\n",
              "      <td>Kings XI Punjab</td>\n",
              "      <td>Chennai Super Kings</td>\n",
              "      <td>Chennai Super Kings</td>\n",
              "      <td>2008</td>\n",
              "      <td>4</td>\n",
              "      <td>19</td>\n",
              "      <td>Runs</td>\n",
              "      <td>33.0</td>\n",
              "      <td>Chennai Super Kings</td>\n",
              "      <td>bat first</td>\n",
              "      <td>2</td>\n",
              "      <td>2008041901</td>\n",
              "    </tr>\n",
              "    <tr>\n",
              "      <th>2</th>\n",
              "      <td>2008-04-19</td>\n",
              "      <td>Delhi</td>\n",
              "      <td>Delhi Capitals</td>\n",
              "      <td>Rajasthan Royals</td>\n",
              "      <td>Delhi Capitals</td>\n",
              "      <td>2008</td>\n",
              "      <td>4</td>\n",
              "      <td>19</td>\n",
              "      <td>Wickets</td>\n",
              "      <td>9.0</td>\n",
              "      <td>Rajasthan Royals</td>\n",
              "      <td>bat first</td>\n",
              "      <td>3</td>\n",
              "      <td>2008041902</td>\n",
              "    </tr>\n",
              "    <tr>\n",
              "      <th>3</th>\n",
              "      <td>2008-04-20</td>\n",
              "      <td>Kolkata</td>\n",
              "      <td>Kolkata Knight Riders</td>\n",
              "      <td>Deccan Chargers</td>\n",
              "      <td>Kolkata Knight Riders</td>\n",
              "      <td>2008</td>\n",
              "      <td>4</td>\n",
              "      <td>20</td>\n",
              "      <td>Wickets</td>\n",
              "      <td>5.0</td>\n",
              "      <td>Deccan Chargers</td>\n",
              "      <td>bat first</td>\n",
              "      <td>4</td>\n",
              "      <td>2008042001</td>\n",
              "    </tr>\n",
              "    <tr>\n",
              "      <th>4</th>\n",
              "      <td>2008-04-20</td>\n",
              "      <td>Mumbai</td>\n",
              "      <td>Mumbai Indians</td>\n",
              "      <td>Royal Challengers Bangalore</td>\n",
              "      <td>Royal Challengers Bangalore</td>\n",
              "      <td>2008</td>\n",
              "      <td>4</td>\n",
              "      <td>20</td>\n",
              "      <td>Wickets</td>\n",
              "      <td>5.0</td>\n",
              "      <td>Mumbai Indians</td>\n",
              "      <td>bat first</td>\n",
              "      <td>5</td>\n",
              "      <td>2008042002</td>\n",
              "    </tr>\n",
              "  </tbody>\n",
              "</table>\n",
              "</div>"
            ],
            "text/plain": [
              "   match_date                Ground  ... match_no primary key\n",
              "0  2008-04-18  Bengaluru, Bangalore  ...        1  2008041801\n",
              "1  2008-04-19    Mohali, Chandigarh  ...        2  2008041901\n",
              "2  2008-04-19                 Delhi  ...        3  2008041902\n",
              "3  2008-04-20               Kolkata  ...        4  2008042001\n",
              "4  2008-04-20                Mumbai  ...        5  2008042002\n",
              "\n",
              "[5 rows x 14 columns]"
            ]
          },
          "metadata": {
            "tags": []
          },
          "execution_count": 14
        }
      ]
    },
    {
      "cell_type": "code",
      "metadata": {
        "id": "7jVvP4Y1AkGK",
        "colab_type": "code",
        "colab": {
          "base_uri": "https://localhost:8080/",
          "height": 34
        },
        "outputId": "14c5b0f1-dfee-4843-d865-c6532db41b33"
      },
      "source": [
        "teams = dfmat['Team 1'].unique()\n",
        "print(teams.shape)\n",
        "\n",
        "data=[]\n",
        "\n",
        "for i in teams:  \n",
        "  #team, mcnt ,twcnt, win_after_twcnt, win_count\n",
        "  data.append([i,0,0,0,0] )\n",
        "\n",
        "for row, column in dfmat.iterrows(): \n",
        "  team1=column[2]\n",
        "  team2=column[3]\n",
        "  Winner=column[4]\n",
        "  toss_winner=column[10]\n",
        "  \n",
        "  for team_data in data:\n",
        "    if team1==team_data[0] or team2==team_data[0]:\n",
        "      team_data[1]=team_data[1]+1 #match count incremented\n",
        "      \n",
        "      if team_data[0]==toss_winner:\n",
        "        team_data[2]=team_data[2]+1  #toss win counter incremented\n",
        "        \n",
        "        if team_data[0]==Winner:\n",
        "          team_data[3]=team_data[3]+1  #win after toss win counter incremented\n",
        "      \n",
        "      if team_data[0]==Winner:\n",
        "        team_data[4]=team_data[4]+1  #win counter incremented"
      ],
      "execution_count": 16,
      "outputs": [
        {
          "output_type": "stream",
          "text": [
            "(13,)\n"
          ],
          "name": "stdout"
        }
      ]
    },
    {
      "cell_type": "code",
      "metadata": {
        "id": "zfho3TtBlkYN",
        "colab_type": "code",
        "colab": {
          "base_uri": "https://localhost:8080/",
          "height": 235
        },
        "outputId": "e3b11f38-aee7-4014-b376-2b68bf5536c9"
      },
      "source": [
        "data"
      ],
      "execution_count": 17,
      "outputs": [
        {
          "output_type": "execute_result",
          "data": {
            "text/plain": [
              "[['Royal Challengers Bangalore', 183, 82, 40, 83],\n",
              " ['Kings XI Punjab', 175, 80, 34, 80],\n",
              " ['Delhi Capitals', 178, 90, 41, 76],\n",
              " ['Kolkata Knight Riders', 181, 92, 53, 91],\n",
              " ['Mumbai Indians', 188, 98, 55, 107],\n",
              " ['Rajasthan Royals', 150, 80, 41, 73],\n",
              " ['Deccan Chargers', 76, 43, 19, 29],\n",
              " ['Chennai Super Kings', 166, 89, 57, 100],\n",
              " ['Kochi Tuskers Kerala', 14, 8, 4, 6],\n",
              " ['Pune Warriors', 46, 20, 3, 12],\n",
              " ['Sunrisers Hyderabad', 109, 46, 23, 57],\n",
              " ['Gujarat Lions', 30, 15, 10, 13],\n",
              " ['Rising Pune Supergiant', 30, 6, 5, 15]]"
            ]
          },
          "metadata": {
            "tags": []
          },
          "execution_count": 17
        }
      ]
    },
    {
      "cell_type": "code",
      "metadata": {
        "id": "GzPkBx5-lpu_",
        "colab_type": "code",
        "colab": {
          "base_uri": "https://localhost:8080/",
          "height": 432
        },
        "outputId": "19d87c3e-9005-435c-af08-cdc848d05248"
      },
      "source": [
        "teamdata = pd.DataFrame (columns = ['Team','Number of Matches','% Matches Won','% Toss Won', '% Match+Toss Won', '% Toss Won wrt Match Won'])\n",
        "for row in data: \n",
        "  team=row[0]\n",
        "  match_count=row[1]\n",
        "  toss_win_count=row[2]\n",
        "  win_after_toss_win_count=row[3]\n",
        "  no_won_match=row[4]\n",
        "  \n",
        "  won_match=(no_won_match/match_count)*100\n",
        "  \n",
        "  percent_matches_toss= (toss_win_count/match_count)*100\n",
        "  win_plus_toss_win=(win_after_toss_win_count/match_count)*100\n",
        "  tosswin_wrt_win=(win_after_toss_win_count/no_won_match)*100\n",
        "  teamdata=teamdata.append({'Team': team, 'Number of Matches' : match_count, '% Matches Won':won_match ,  '% Toss Won': percent_matches_toss,  '% Match+Toss Won': win_plus_toss_win , '% Toss Won wrt Match Won':tosswin_wrt_win},ignore_index=True)\n",
        "teamdata  "
      ],
      "execution_count": 24,
      "outputs": [
        {
          "output_type": "execute_result",
          "data": {
            "text/html": [
              "<div>\n",
              "<style scoped>\n",
              "    .dataframe tbody tr th:only-of-type {\n",
              "        vertical-align: middle;\n",
              "    }\n",
              "\n",
              "    .dataframe tbody tr th {\n",
              "        vertical-align: top;\n",
              "    }\n",
              "\n",
              "    .dataframe thead th {\n",
              "        text-align: right;\n",
              "    }\n",
              "</style>\n",
              "<table border=\"1\" class=\"dataframe\">\n",
              "  <thead>\n",
              "    <tr style=\"text-align: right;\">\n",
              "      <th></th>\n",
              "      <th>Team</th>\n",
              "      <th>Number of Matches</th>\n",
              "      <th>% Matches Won</th>\n",
              "      <th>% Toss Won</th>\n",
              "      <th>% Match+Toss Won</th>\n",
              "      <th>% Toss Won wrt Match Won</th>\n",
              "    </tr>\n",
              "  </thead>\n",
              "  <tbody>\n",
              "    <tr>\n",
              "      <th>0</th>\n",
              "      <td>Royal Challengers Bangalore</td>\n",
              "      <td>183</td>\n",
              "      <td>45.355191</td>\n",
              "      <td>44.808743</td>\n",
              "      <td>21.857923</td>\n",
              "      <td>48.192771</td>\n",
              "    </tr>\n",
              "    <tr>\n",
              "      <th>1</th>\n",
              "      <td>Kings XI Punjab</td>\n",
              "      <td>175</td>\n",
              "      <td>45.714286</td>\n",
              "      <td>45.714286</td>\n",
              "      <td>19.428571</td>\n",
              "      <td>42.500000</td>\n",
              "    </tr>\n",
              "    <tr>\n",
              "      <th>2</th>\n",
              "      <td>Delhi Capitals</td>\n",
              "      <td>178</td>\n",
              "      <td>42.696629</td>\n",
              "      <td>50.561798</td>\n",
              "      <td>23.033708</td>\n",
              "      <td>53.947368</td>\n",
              "    </tr>\n",
              "    <tr>\n",
              "      <th>3</th>\n",
              "      <td>Kolkata Knight Riders</td>\n",
              "      <td>181</td>\n",
              "      <td>50.276243</td>\n",
              "      <td>50.828729</td>\n",
              "      <td>29.281768</td>\n",
              "      <td>58.241758</td>\n",
              "    </tr>\n",
              "    <tr>\n",
              "      <th>4</th>\n",
              "      <td>Mumbai Indians</td>\n",
              "      <td>188</td>\n",
              "      <td>56.914894</td>\n",
              "      <td>52.127660</td>\n",
              "      <td>29.255319</td>\n",
              "      <td>51.401869</td>\n",
              "    </tr>\n",
              "    <tr>\n",
              "      <th>5</th>\n",
              "      <td>Rajasthan Royals</td>\n",
              "      <td>150</td>\n",
              "      <td>48.666667</td>\n",
              "      <td>53.333333</td>\n",
              "      <td>27.333333</td>\n",
              "      <td>56.164384</td>\n",
              "    </tr>\n",
              "    <tr>\n",
              "      <th>6</th>\n",
              "      <td>Deccan Chargers</td>\n",
              "      <td>76</td>\n",
              "      <td>38.157895</td>\n",
              "      <td>56.578947</td>\n",
              "      <td>25.000000</td>\n",
              "      <td>65.517241</td>\n",
              "    </tr>\n",
              "    <tr>\n",
              "      <th>7</th>\n",
              "      <td>Chennai Super Kings</td>\n",
              "      <td>166</td>\n",
              "      <td>60.240964</td>\n",
              "      <td>53.614458</td>\n",
              "      <td>34.337349</td>\n",
              "      <td>57.000000</td>\n",
              "    </tr>\n",
              "    <tr>\n",
              "      <th>8</th>\n",
              "      <td>Kochi Tuskers Kerala</td>\n",
              "      <td>14</td>\n",
              "      <td>42.857143</td>\n",
              "      <td>57.142857</td>\n",
              "      <td>28.571429</td>\n",
              "      <td>66.666667</td>\n",
              "    </tr>\n",
              "    <tr>\n",
              "      <th>9</th>\n",
              "      <td>Pune Warriors</td>\n",
              "      <td>46</td>\n",
              "      <td>26.086957</td>\n",
              "      <td>43.478261</td>\n",
              "      <td>6.521739</td>\n",
              "      <td>25.000000</td>\n",
              "    </tr>\n",
              "    <tr>\n",
              "      <th>10</th>\n",
              "      <td>Sunrisers Hyderabad</td>\n",
              "      <td>109</td>\n",
              "      <td>52.293578</td>\n",
              "      <td>42.201835</td>\n",
              "      <td>21.100917</td>\n",
              "      <td>40.350877</td>\n",
              "    </tr>\n",
              "    <tr>\n",
              "      <th>11</th>\n",
              "      <td>Gujarat Lions</td>\n",
              "      <td>30</td>\n",
              "      <td>43.333333</td>\n",
              "      <td>50.000000</td>\n",
              "      <td>33.333333</td>\n",
              "      <td>76.923077</td>\n",
              "    </tr>\n",
              "    <tr>\n",
              "      <th>12</th>\n",
              "      <td>Rising Pune Supergiant</td>\n",
              "      <td>30</td>\n",
              "      <td>50.000000</td>\n",
              "      <td>20.000000</td>\n",
              "      <td>16.666667</td>\n",
              "      <td>33.333333</td>\n",
              "    </tr>\n",
              "  </tbody>\n",
              "</table>\n",
              "</div>"
            ],
            "text/plain": [
              "                           Team  ... % Toss Won wrt Match Won\n",
              "0   Royal Challengers Bangalore  ...                48.192771\n",
              "1               Kings XI Punjab  ...                42.500000\n",
              "2                Delhi Capitals  ...                53.947368\n",
              "3         Kolkata Knight Riders  ...                58.241758\n",
              "4                Mumbai Indians  ...                51.401869\n",
              "5              Rajasthan Royals  ...                56.164384\n",
              "6               Deccan Chargers  ...                65.517241\n",
              "7           Chennai Super Kings  ...                57.000000\n",
              "8          Kochi Tuskers Kerala  ...                66.666667\n",
              "9                 Pune Warriors  ...                25.000000\n",
              "10          Sunrisers Hyderabad  ...                40.350877\n",
              "11                Gujarat Lions  ...                76.923077\n",
              "12       Rising Pune Supergiant  ...                33.333333\n",
              "\n",
              "[13 rows x 6 columns]"
            ]
          },
          "metadata": {
            "tags": []
          },
          "execution_count": 24
        }
      ]
    },
    {
      "cell_type": "code",
      "metadata": {
        "id": "hP9WlOPyoqnU",
        "colab_type": "code",
        "colab": {
          "base_uri": "https://localhost:8080/",
          "height": 67
        },
        "outputId": "a635f855-02d9-4500-813b-d5d00b91689b"
      },
      "source": [
        "teamdata.columns"
      ],
      "execution_count": 26,
      "outputs": [
        {
          "output_type": "execute_result",
          "data": {
            "text/plain": [
              "Index(['Team', 'Number of Matches', '% Matches Won', '% Toss Won',\n",
              "       '% Match+Toss Won', '% Toss Won wrt Match Won'],\n",
              "      dtype='object')"
            ]
          },
          "metadata": {
            "tags": []
          },
          "execution_count": 26
        }
      ]
    },
    {
      "cell_type": "code",
      "metadata": {
        "id": "CX5G8n9hobrC",
        "colab_type": "code",
        "colab": {
          "base_uri": "https://localhost:8080/",
          "height": 77
        },
        "outputId": "4acdd45b-4d68-4887-aa13-211bda74e055"
      },
      "source": [
        "teamdata[teamdata['% Toss Won wrt Match Won']==teamdata['% Toss Won wrt Match Won'].max()]"
      ],
      "execution_count": 27,
      "outputs": [
        {
          "output_type": "execute_result",
          "data": {
            "text/html": [
              "<div>\n",
              "<style scoped>\n",
              "    .dataframe tbody tr th:only-of-type {\n",
              "        vertical-align: middle;\n",
              "    }\n",
              "\n",
              "    .dataframe tbody tr th {\n",
              "        vertical-align: top;\n",
              "    }\n",
              "\n",
              "    .dataframe thead th {\n",
              "        text-align: right;\n",
              "    }\n",
              "</style>\n",
              "<table border=\"1\" class=\"dataframe\">\n",
              "  <thead>\n",
              "    <tr style=\"text-align: right;\">\n",
              "      <th></th>\n",
              "      <th>Team</th>\n",
              "      <th>Number of Matches</th>\n",
              "      <th>% Matches Won</th>\n",
              "      <th>% Toss Won</th>\n",
              "      <th>% Match+Toss Won</th>\n",
              "      <th>% Toss Won wrt Match Won</th>\n",
              "    </tr>\n",
              "  </thead>\n",
              "  <tbody>\n",
              "    <tr>\n",
              "      <th>11</th>\n",
              "      <td>Gujarat Lions</td>\n",
              "      <td>30</td>\n",
              "      <td>43.333333</td>\n",
              "      <td>50.0</td>\n",
              "      <td>33.333333</td>\n",
              "      <td>76.923077</td>\n",
              "    </tr>\n",
              "  </tbody>\n",
              "</table>\n",
              "</div>"
            ],
            "text/plain": [
              "             Team Number of Matches  ...  % Match+Toss Won  % Toss Won wrt Match Won\n",
              "11  Gujarat Lions                30  ...         33.333333                 76.923077\n",
              "\n",
              "[1 rows x 6 columns]"
            ]
          },
          "metadata": {
            "tags": []
          },
          "execution_count": 27
        }
      ]
    },
    {
      "cell_type": "markdown",
      "metadata": {
        "id": "fRj1WT5ko3_b",
        "colab_type": "text"
      },
      "source": [
        "Gujarat Lions have taken the full advantage of winning the toss. They have won 50% of their tosses i.e. 15 tosses out of 30 matches, and therefore % toss won per match won is 76.92%"
      ]
    },
    {
      "cell_type": "markdown",
      "metadata": {
        "colab_type": "text",
        "id": "rRFujfeQo6cm"
      },
      "source": [
        "### **Question 3** \n",
        "* List the names of the **top 10 batsmen** by total runs accumulated across all the seasons\n",
        "  * The output should be stored in a list\n",
        "\n",
        "--------------------------\n",
        "\n"
      ]
    },
    {
      "cell_type": "code",
      "metadata": {
        "id": "yCUXq1RmdzAH",
        "colab_type": "code",
        "colab": {}
      },
      "source": [
        "# write your code here. Feel free to add multiple cells as per your need\n",
        "\n",
        "dfbat = pd.read_csv('drive/My Drive/data/ipl_batting.csv')"
      ],
      "execution_count": 28,
      "outputs": []
    },
    {
      "cell_type": "code",
      "metadata": {
        "id": "gF82dlk6Im5m",
        "colab_type": "code",
        "colab": {
          "base_uri": "https://localhost:8080/",
          "height": 373
        },
        "outputId": "82302a75-b300-4262-c25e-8e163d663add"
      },
      "source": [
        "# Top 10 batsmen in all seasons by Runs scored\n",
        "\n",
        "top_10 = dfbat.groupby(['batsmen'])['R'].sum().sort_values(ascending=False)[:10]\n",
        "pd.DataFrame(top_10)"
      ],
      "execution_count": 29,
      "outputs": [
        {
          "output_type": "execute_result",
          "data": {
            "text/html": [
              "<div>\n",
              "<style scoped>\n",
              "    .dataframe tbody tr th:only-of-type {\n",
              "        vertical-align: middle;\n",
              "    }\n",
              "\n",
              "    .dataframe tbody tr th {\n",
              "        vertical-align: top;\n",
              "    }\n",
              "\n",
              "    .dataframe thead th {\n",
              "        text-align: right;\n",
              "    }\n",
              "</style>\n",
              "<table border=\"1\" class=\"dataframe\">\n",
              "  <thead>\n",
              "    <tr style=\"text-align: right;\">\n",
              "      <th></th>\n",
              "      <th>R</th>\n",
              "    </tr>\n",
              "    <tr>\n",
              "      <th>batsmen</th>\n",
              "      <th></th>\n",
              "    </tr>\n",
              "  </thead>\n",
              "  <tbody>\n",
              "    <tr>\n",
              "      <th>V Kohli</th>\n",
              "      <td>5412</td>\n",
              "    </tr>\n",
              "    <tr>\n",
              "      <th>SK Raina</th>\n",
              "      <td>5368</td>\n",
              "    </tr>\n",
              "    <tr>\n",
              "      <th>RG Sharma</th>\n",
              "      <td>4898</td>\n",
              "    </tr>\n",
              "    <tr>\n",
              "      <th>DA Warner</th>\n",
              "      <td>4706</td>\n",
              "    </tr>\n",
              "    <tr>\n",
              "      <th>S Dhawan</th>\n",
              "      <td>4579</td>\n",
              "    </tr>\n",
              "    <tr>\n",
              "      <th>CH Gayle</th>\n",
              "      <td>4484</td>\n",
              "    </tr>\n",
              "    <tr>\n",
              "      <th>MS Dhoni</th>\n",
              "      <td>4432</td>\n",
              "    </tr>\n",
              "    <tr>\n",
              "      <th>RV Uthappa</th>\n",
              "      <td>4411</td>\n",
              "    </tr>\n",
              "    <tr>\n",
              "      <th>AB de Villiers</th>\n",
              "      <td>4395</td>\n",
              "    </tr>\n",
              "    <tr>\n",
              "      <th>G Gambhir</th>\n",
              "      <td>4217</td>\n",
              "    </tr>\n",
              "  </tbody>\n",
              "</table>\n",
              "</div>"
            ],
            "text/plain": [
              "                   R\n",
              "batsmen             \n",
              "V Kohli         5412\n",
              "SK Raina        5368\n",
              "RG Sharma       4898\n",
              "DA Warner       4706\n",
              "S Dhawan        4579\n",
              "CH Gayle        4484\n",
              "MS Dhoni        4432\n",
              "RV Uthappa      4411\n",
              "AB de Villiers  4395\n",
              "G Gambhir       4217"
            ]
          },
          "metadata": {
            "tags": []
          },
          "execution_count": 29
        }
      ]
    },
    {
      "cell_type": "markdown",
      "metadata": {
        "colab_type": "text",
        "id": "UaxvhQeapUie"
      },
      "source": [
        "### **Question 4**\n",
        "* Visualize the **runs made vs balls faced** in a jointplot. You should do this for all batsmen who batted in the **IPL season 2017**\n",
        "\n",
        "--------------------"
      ]
    },
    {
      "cell_type": "code",
      "metadata": {
        "id": "zIrpZ_ds3w-D",
        "colab_type": "code",
        "colab": {
          "base_uri": "https://localhost:8080/",
          "height": 70
        },
        "outputId": "6799fe8e-6621-49db-b509-02f7d0059b66"
      },
      "source": [
        "# write your code here. Feel free to add multiple cells as per your need\n",
        "import seaborn as sns\n",
        "import matplotlib.pyplot as plt\n",
        "\n",
        "batting_2017_df = dfbat[dfbat['match_date'].str[-4:] == '2017']"
      ],
      "execution_count": 30,
      "outputs": [
        {
          "output_type": "stream",
          "text": [
            "/usr/local/lib/python3.6/dist-packages/statsmodels/tools/_testing.py:19: FutureWarning: pandas.util.testing is deprecated. Use the functions in the public API at pandas.testing instead.\n",
            "  import pandas.util.testing as tm\n"
          ],
          "name": "stderr"
        }
      ]
    },
    {
      "cell_type": "code",
      "metadata": {
        "id": "S4PqYUNN26G4",
        "colab_type": "code",
        "colab": {}
      },
      "source": [
        "datapoints = batting_2017_df[['R', 'B']].values"
      ],
      "execution_count": 31,
      "outputs": []
    },
    {
      "cell_type": "code",
      "metadata": {
        "id": "N0GWIAUjXn9R",
        "colab_type": "code",
        "colab": {
          "base_uri": "https://localhost:8080/",
          "height": 476
        },
        "outputId": "544051a9-ec73-4814-ad61-383d3f599436"
      },
      "source": [
        "p4 = sns.jointplot(datapoints[:, 1], datapoints[:, 0])\n",
        "p4.set_axis_labels('Balls faced', 'Runs made', fontsize=14)"
      ],
      "execution_count": 32,
      "outputs": [
        {
          "output_type": "execute_result",
          "data": {
            "text/plain": [
              "<seaborn.axisgrid.JointGrid at 0x7f457e64e9e8>"
            ]
          },
          "metadata": {
            "tags": []
          },
          "execution_count": 32
        },
        {
          "output_type": "display_data",
          "data": {
            "image/png": "[encoded data removed]",
            "text/plain": [
              "<Figure size 432x432 with 3 Axes>"
            ]
          },
          "metadata": {
            "tags": [],
            "needs_background": "light"
          }
        }
      ]
    },
    {
      "cell_type": "markdown",
      "metadata": {
        "colab_type": "text",
        "id": "lck9W01_pu2n"
      },
      "source": [
        "### **Question 5**\n",
        "* Create a new calculated column called **boundary_contribution**. It is calculated as : **(total runs made in 4s + 6s)/(total runs scored)**\n",
        "* Create a scatter-plot between **boundary_contribution** and **strike_rate** where each dot represents an innings by a batsman\n",
        "* Aggregate **boundary_contribution** by player and list down **top 10** players by boundary_contribution across all seasons\n",
        "---------------------------------"
      ]
    },
    {
      "cell_type": "code",
      "metadata": {
        "id": "umLzBwOvLpqH",
        "colab_type": "code",
        "colab": {}
      },
      "source": [
        "import matplotlib.pyplot as plt"
      ],
      "execution_count": 33,
      "outputs": []
    },
    {
      "cell_type": "code",
      "metadata": {
        "id": "46clsyK4GnpM",
        "colab_type": "code",
        "colab": {}
      },
      "source": [
        "dfbat['boundary_contribution'] = (dfbat['fours']*4 + dfbat['sixes']*6)/dfbat['R']"
      ],
      "execution_count": 34,
      "outputs": []
    },
    {
      "cell_type": "code",
      "metadata": {
        "id": "lOwFp09cJ8PH",
        "colab_type": "code",
        "colab": {
          "base_uri": "https://localhost:8080/",
          "height": 295
        },
        "outputId": "66802802-f03f-485e-9de2-940d4e559272"
      },
      "source": [
        "plt.scatter(dfbat['SR'], dfbat['boundary_contribution'])\n",
        "plt.xlabel('Strike Rate')\n",
        "plt.ylabel('Contribution of Boundaries')\n",
        "plt.title('Contribution of Boundaries vs Strike Rate')\n",
        "plt.show()"
      ],
      "execution_count": 35,
      "outputs": [
        {
          "output_type": "display_data",
          "data": {
            "image/png": "[encoded data removed]",
            "text/plain": [
              "<Figure size 432x288 with 1 Axes>"
            ]
          },
          "metadata": {
            "tags": [],
            "needs_background": "light"
          }
        }
      ]
    },
    {
      "cell_type": "code",
      "metadata": {
        "id": "FRvdNdOtOj3m",
        "colab_type": "code",
        "colab": {
          "base_uri": "https://localhost:8080/",
          "height": 373
        },
        "outputId": "93364c60-e1f4-4c14-eec9-fa3e6203b2b8"
      },
      "source": [
        "top_10_bat_contrib = dfbat.groupby(['batsmen'])['boundary_contribution'].sum().sort_values(ascending=False)[:10]\n",
        "pd.DataFrame(top_10_bat_contrib)"
      ],
      "execution_count": 36,
      "outputs": [
        {
          "output_type": "execute_result",
          "data": {
            "text/html": [
              "<div>\n",
              "<style scoped>\n",
              "    .dataframe tbody tr th:only-of-type {\n",
              "        vertical-align: middle;\n",
              "    }\n",
              "\n",
              "    .dataframe tbody tr th {\n",
              "        vertical-align: top;\n",
              "    }\n",
              "\n",
              "    .dataframe thead th {\n",
              "        text-align: right;\n",
              "    }\n",
              "</style>\n",
              "<table border=\"1\" class=\"dataframe\">\n",
              "  <thead>\n",
              "    <tr style=\"text-align: right;\">\n",
              "      <th></th>\n",
              "      <th>boundary_contribution</th>\n",
              "    </tr>\n",
              "    <tr>\n",
              "      <th>batsmen</th>\n",
              "      <th></th>\n",
              "    </tr>\n",
              "  </thead>\n",
              "  <tbody>\n",
              "    <tr>\n",
              "      <th>SK Raina</th>\n",
              "      <td>91.020318</td>\n",
              "    </tr>\n",
              "    <tr>\n",
              "      <th>RV Uthappa</th>\n",
              "      <td>87.539258</td>\n",
              "    </tr>\n",
              "    <tr>\n",
              "      <th>CH Gayle</th>\n",
              "      <td>84.350876</td>\n",
              "    </tr>\n",
              "    <tr>\n",
              "      <th>V Kohli</th>\n",
              "      <td>83.108704</td>\n",
              "    </tr>\n",
              "    <tr>\n",
              "      <th>S Dhawan</th>\n",
              "      <td>82.840033</td>\n",
              "    </tr>\n",
              "    <tr>\n",
              "      <th>RG Sharma</th>\n",
              "      <td>82.769190</td>\n",
              "    </tr>\n",
              "    <tr>\n",
              "      <th>SR Watson</th>\n",
              "      <td>73.769430</td>\n",
              "    </tr>\n",
              "    <tr>\n",
              "      <th>MS Dhoni</th>\n",
              "      <td>73.397890</td>\n",
              "    </tr>\n",
              "    <tr>\n",
              "      <th>YK Pathan</th>\n",
              "      <td>70.158935</td>\n",
              "    </tr>\n",
              "    <tr>\n",
              "      <th>G Gambhir</th>\n",
              "      <td>69.698106</td>\n",
              "    </tr>\n",
              "  </tbody>\n",
              "</table>\n",
              "</div>"
            ],
            "text/plain": [
              "            boundary_contribution\n",
              "batsmen                          \n",
              "SK Raina                91.020318\n",
              "RV Uthappa              87.539258\n",
              "CH Gayle                84.350876\n",
              "V Kohli                 83.108704\n",
              "S Dhawan                82.840033\n",
              "RG Sharma               82.769190\n",
              "SR Watson               73.769430\n",
              "MS Dhoni                73.397890\n",
              "YK Pathan               70.158935\n",
              "G Gambhir               69.698106"
            ]
          },
          "metadata": {
            "tags": []
          },
          "execution_count": 36
        }
      ]
    },
    {
      "cell_type": "markdown",
      "metadata": {
        "colab_type": "text",
        "id": "dloabh5xqXK6"
      },
      "source": [
        "### **Question 6**\n",
        "* List down **top 10** batsmen by **strike_rate** across all seasons. Plot the top 10 batsmen on a **bar chart**\n",
        "* Repeat the above task for **bottom 10** batsmen\n",
        "* Create a sub-plot with three sections. Show the below visuals in each : \n",
        "  * Box plot of **strike rates** of the top 10 batsmen listed in 1st part of the question\n",
        "  * Box plot of **runs scored** of the top 10 batsmen\n",
        "  * Box plot of **boundary_contribution** of the top 10 batsmen\n",
        "----------------------------------"
      ]
    },
    {
      "cell_type": "code",
      "metadata": {
        "id": "kn9YyCupGpn-",
        "colab_type": "code",
        "colab": {
          "base_uri": "https://localhost:8080/",
          "height": 70
        },
        "outputId": "126c776b-1185-451b-e2e9-cbb652b6e02e"
      },
      "source": [
        "batsmen_df = dfbat.groupby(['batsmen'])['R', 'B'].sum().sort_values(by='R', ascending=False)\n",
        "batsmen_df['strike_rate'] = 100 * batsmen_df['R']/batsmen_df['B']\n",
        "\n",
        "top_10_bat_runs = batsmen_df.nlargest(10, 'strike_rate')['R']\n",
        "top_10_bat_sr = batsmen_df.nlargest(10, 'strike_rate')['strike_rate']"
      ],
      "execution_count": 37,
      "outputs": [
        {
          "output_type": "stream",
          "text": [
            "/usr/local/lib/python3.6/dist-packages/ipykernel_launcher.py:1: FutureWarning: Indexing with multiple keys (implicitly converted to a tuple of keys) will be deprecated, use a list instead.\n",
            "  \"\"\"Entry point for launching an IPython kernel.\n"
          ],
          "name": "stderr"
        }
      ]
    },
    {
      "cell_type": "code",
      "metadata": {
        "id": "x3w1SK4omcuu",
        "colab_type": "code",
        "colab": {
          "base_uri": "https://localhost:8080/",
          "height": 355
        },
        "outputId": "6f273d1d-0c36-4e8d-9719-b05967ef7c4c"
      },
      "source": [
        "plt.bar(top_10_bat_sr.index, top_10_bat_sr.values)\n",
        "plt.xlabel('batsmen')\n",
        "plt.xticks(rotation=45)\n",
        "plt.ylabel('strike_rate')"
      ],
      "execution_count": 38,
      "outputs": [
        {
          "output_type": "execute_result",
          "data": {
            "text/plain": [
              "Text(0, 0.5, 'strike_rate')"
            ]
          },
          "metadata": {
            "tags": []
          },
          "execution_count": 38
        },
        {
          "output_type": "display_data",
          "data": {
            "image/png": "[encoded data removed]",
            "text/plain": [
              "<Figure size 432x288 with 1 Axes>"
            ]
          },
          "metadata": {
            "tags": [],
            "needs_background": "light"
          }
        }
      ]
    },
    {
      "cell_type": "code",
      "metadata": {
        "id": "P2WR3hn2iK9I",
        "colab_type": "code",
        "colab": {}
      },
      "source": [
        "bottom_10_sr = batsmen_df.nsmallest(10, 'strike_rate')['strike_rate']"
      ],
      "execution_count": 39,
      "outputs": []
    },
    {
      "cell_type": "code",
      "metadata": {
        "id": "CSESRRBcp2J0",
        "colab_type": "code",
        "colab": {
          "base_uri": "https://localhost:8080/",
          "height": 513
        },
        "outputId": "67787842-eaf2-476e-bd9c-67679fed172d"
      },
      "source": [
        "fig = plt.figure(figsize=(10, 7))\n",
        "\n",
        "plt.subplot(1,3,1)\n",
        "plt.boxplot(top_10_bat_sr.values)\n",
        "plt.xticks(rotation=45)\n",
        "plt.ylabel('Strike Rate')\n",
        "\n",
        "plt.subplot(1,3,2)\n",
        "plt.boxplot(top_10_bat_runs.values)\n",
        "plt.xticks(rotation=45)\n",
        "plt.ylabel('Strike Rate')\n",
        "\n",
        "plt.subplot(1,3,3)\n",
        "plt.boxplot(top_10_bat_contrib.values)\n",
        "plt.xticks(rotation=45)\n",
        "plt.ylabel('Contribution of Boundaries')\n",
        "plt.tight_layout()"
      ],
      "execution_count": 44,
      "outputs": [
        {
          "output_type": "display_data",
          "data": {
            "image/png": "[encoded data removed]",
            "text/plain": [
              "<Figure size 720x504 with 3 Axes>"
            ]
          },
          "metadata": {
            "tags": [],
            "needs_background": "light"
          }
        }
      ]
    },
    {
      "cell_type": "markdown",
      "metadata": {
        "id": "pMSAVx9Rqtmm",
        "colab_type": "text"
      },
      "source": [
        "### **Question 7**\n",
        "* Create a new column called **dismissal_status**. Use the wicket_status column to extract values like **caught, lbw, bowled** etc. and store in dismissal_status column\n",
        "* Extract the bowler name from the column **wicket_status** and store in a new column called **bowler_name**\n",
        "* Extract fielder name from the **wicket_status** column and store in a new column called **fielder_name**\n",
        "* Create a new column called **fielder_involved**. Set it to 1 if a fielder was involved in the dismissal else 0\n",
        "* Create a **count plot** of player dismissals across the categories calculated above. Which category stands out from the rest?\n",
        "------------------\n"
      ]
    },
    {
      "cell_type": "code",
      "metadata": {
        "id": "KNxv0Y_kGrFE",
        "colab_type": "code",
        "colab": {}
      },
      "source": [
        "import seaborn as sns"
      ],
      "execution_count": 45,
      "outputs": []
    },
    {
      "cell_type": "code",
      "metadata": {
        "id": "cvBGqlqG4eYa",
        "colab_type": "code",
        "colab": {}
      },
      "source": [
        "dfbat['wicket_status'].str.split(' ', 1).str.get(0).unique()\n",
        "\n",
        "dismissal_status_map = {'c':'caught', 'not':'not out', 'run':'run out', 'b':'bowled', 'st':'stumped', 'lbw':'lbw', 'absent':'absent hurt', 'hit':'hit wicket', 'retired':'retired out', 'obstructing':'obstructing the field'}"
      ],
      "execution_count": 46,
      "outputs": []
    },
    {
      "cell_type": "code",
      "metadata": {
        "id": "k47tN-0LUU0c",
        "colab_type": "code",
        "colab": {
          "base_uri": "https://localhost:8080/",
          "height": 279
        },
        "outputId": "dd204cbf-005e-43f1-a70a-2edb602d173c"
      },
      "source": [
        "dfbat['dismissal_status'] = dfbat.apply(lambda x : dismissal_status_map[x['wicket_status'].split(\" \", 1)[0]], axis=1)\n",
        "dfbat.head()"
      ],
      "execution_count": 47,
      "outputs": [
        {
          "output_type": "execute_result",
          "data": {
            "text/html": [
              "<div>\n",
              "<style scoped>\n",
              "    .dataframe tbody tr th:only-of-type {\n",
              "        vertical-align: middle;\n",
              "    }\n",
              "\n",
              "    .dataframe tbody tr th {\n",
              "        vertical-align: top;\n",
              "    }\n",
              "\n",
              "    .dataframe thead th {\n",
              "        text-align: right;\n",
              "    }\n",
              "</style>\n",
              "<table border=\"1\" class=\"dataframe\">\n",
              "  <thead>\n",
              "    <tr style=\"text-align: right;\">\n",
              "      <th></th>\n",
              "      <th>match_no</th>\n",
              "      <th>team_1</th>\n",
              "      <th>team_2</th>\n",
              "      <th>batsmen</th>\n",
              "      <th>wicket_status</th>\n",
              "      <th>R</th>\n",
              "      <th>B</th>\n",
              "      <th>M</th>\n",
              "      <th>fours</th>\n",
              "      <th>sixes</th>\n",
              "      <th>SR</th>\n",
              "      <th>special_role</th>\n",
              "      <th>match_date</th>\n",
              "      <th>match_key</th>\n",
              "      <th>boundary_contribution</th>\n",
              "      <th>dismissal_status</th>\n",
              "    </tr>\n",
              "  </thead>\n",
              "  <tbody>\n",
              "    <tr>\n",
              "      <th>0</th>\n",
              "      <td>1</td>\n",
              "      <td>Mumbai Indians</td>\n",
              "      <td>Chennai Super Kings</td>\n",
              "      <td>ST Jayasuriya</td>\n",
              "      <td>c Hayden b Thushara</td>\n",
              "      <td>26</td>\n",
              "      <td>20</td>\n",
              "      <td>0</td>\n",
              "      <td>5</td>\n",
              "      <td>0</td>\n",
              "      <td>130.00</td>\n",
              "      <td>normal player</td>\n",
              "      <td>18-04-2009</td>\n",
              "      <td>2009041801</td>\n",
              "      <td>0.769231</td>\n",
              "      <td>caught</td>\n",
              "    </tr>\n",
              "    <tr>\n",
              "      <th>1</th>\n",
              "      <td>1</td>\n",
              "      <td>Mumbai Indians</td>\n",
              "      <td>Chennai Super Kings</td>\n",
              "      <td>SR Tendulkar</td>\n",
              "      <td>not out</td>\n",
              "      <td>59</td>\n",
              "      <td>49</td>\n",
              "      <td>0</td>\n",
              "      <td>7</td>\n",
              "      <td>0</td>\n",
              "      <td>120.40</td>\n",
              "      <td>captain</td>\n",
              "      <td>18-04-2009</td>\n",
              "      <td>2009041801</td>\n",
              "      <td>0.474576</td>\n",
              "      <td>not out</td>\n",
              "    </tr>\n",
              "    <tr>\n",
              "      <th>2</th>\n",
              "      <td>1</td>\n",
              "      <td>Mumbai Indians</td>\n",
              "      <td>Chennai Super Kings</td>\n",
              "      <td>S Dhawan</td>\n",
              "      <td>c Dhoni b Gony</td>\n",
              "      <td>22</td>\n",
              "      <td>21</td>\n",
              "      <td>0</td>\n",
              "      <td>2</td>\n",
              "      <td>0</td>\n",
              "      <td>104.76</td>\n",
              "      <td>normal player</td>\n",
              "      <td>18-04-2009</td>\n",
              "      <td>2009041801</td>\n",
              "      <td>0.363636</td>\n",
              "      <td>caught</td>\n",
              "    </tr>\n",
              "    <tr>\n",
              "      <th>3</th>\n",
              "      <td>1</td>\n",
              "      <td>Mumbai Indians</td>\n",
              "      <td>Chennai Super Kings</td>\n",
              "      <td>JP Duminy</td>\n",
              "      <td>c &amp; b Gony</td>\n",
              "      <td>9</td>\n",
              "      <td>7</td>\n",
              "      <td>0</td>\n",
              "      <td>1</td>\n",
              "      <td>0</td>\n",
              "      <td>128.57</td>\n",
              "      <td>normal player</td>\n",
              "      <td>18-04-2009</td>\n",
              "      <td>2009041801</td>\n",
              "      <td>0.444444</td>\n",
              "      <td>caught</td>\n",
              "    </tr>\n",
              "    <tr>\n",
              "      <th>4</th>\n",
              "      <td>1</td>\n",
              "      <td>Mumbai Indians</td>\n",
              "      <td>Chennai Super Kings</td>\n",
              "      <td>DJ Bravo</td>\n",
              "      <td>c Hayden b Joginder Sharma</td>\n",
              "      <td>5</td>\n",
              "      <td>4</td>\n",
              "      <td>0</td>\n",
              "      <td>1</td>\n",
              "      <td>0</td>\n",
              "      <td>125.00</td>\n",
              "      <td>normal player</td>\n",
              "      <td>18-04-2009</td>\n",
              "      <td>2009041801</td>\n",
              "      <td>0.800000</td>\n",
              "      <td>caught</td>\n",
              "    </tr>\n",
              "  </tbody>\n",
              "</table>\n",
              "</div>"
            ],
            "text/plain": [
              "  match_no          team_1  ... boundary_contribution dismissal_status\n",
              "0        1  Mumbai Indians  ...              0.769231           caught\n",
              "1        1  Mumbai Indians  ...              0.474576          not out\n",
              "2        1  Mumbai Indians  ...              0.363636           caught\n",
              "3        1  Mumbai Indians  ...              0.444444           caught\n",
              "4        1  Mumbai Indians  ...              0.800000           caught\n",
              "\n",
              "[5 rows x 16 columns]"
            ]
          },
          "metadata": {
            "tags": []
          },
          "execution_count": 47
        }
      ]
    },
    {
      "cell_type": "code",
      "metadata": {
        "id": "dzXSB-t7gbtq",
        "colab_type": "code",
        "colab": {
          "base_uri": "https://localhost:8080/",
          "height": 34
        },
        "outputId": "b635fcfc-5db6-42cd-8fdd-d493e3ae54a2"
      },
      "source": [
        "dfbat['bowler_name'] = dfbat['wicket_status'].str.split(\"b \", 1).str.get(1)\n",
        "\n",
        "print('Null values: {}'.format(dfbat['bowler_name'].isna().sum()))"
      ],
      "execution_count": 48,
      "outputs": [
        {
          "output_type": "stream",
          "text": [
            "Null values: 3563\n"
          ],
          "name": "stdout"
        }
      ]
    },
    {
      "cell_type": "code",
      "metadata": {
        "id": "i-6szRtCvpUZ",
        "colab_type": "code",
        "colab": {}
      },
      "source": [
        "dfbat['fielder_involved'] = 0\n",
        "dfbat.loc[dfbat['dismissal_status'] == 'caught', 'fielder_involved'] = 1"
      ],
      "execution_count": 49,
      "outputs": []
    },
    {
      "cell_type": "code",
      "metadata": {
        "id": "YqnPJ_jS032b",
        "colab_type": "code",
        "colab": {
          "base_uri": "https://localhost:8080/",
          "height": 383
        },
        "outputId": "4d41f68e-36d6-4bb1-c135-c7504bf2dc64"
      },
      "source": [
        "dfbat.head()"
      ],
      "execution_count": 51,
      "outputs": [
        {
          "output_type": "execute_result",
          "data": {
            "text/html": [
              "<div>\n",
              "<style scoped>\n",
              "    .dataframe tbody tr th:only-of-type {\n",
              "        vertical-align: middle;\n",
              "    }\n",
              "\n",
              "    .dataframe tbody tr th {\n",
              "        vertical-align: top;\n",
              "    }\n",
              "\n",
              "    .dataframe thead th {\n",
              "        text-align: right;\n",
              "    }\n",
              "</style>\n",
              "<table border=\"1\" class=\"dataframe\">\n",
              "  <thead>\n",
              "    <tr style=\"text-align: right;\">\n",
              "      <th></th>\n",
              "      <th>match_no</th>\n",
              "      <th>team_1</th>\n",
              "      <th>team_2</th>\n",
              "      <th>batsmen</th>\n",
              "      <th>wicket_status</th>\n",
              "      <th>R</th>\n",
              "      <th>B</th>\n",
              "      <th>M</th>\n",
              "      <th>fours</th>\n",
              "      <th>sixes</th>\n",
              "      <th>SR</th>\n",
              "      <th>special_role</th>\n",
              "      <th>match_date</th>\n",
              "      <th>match_key</th>\n",
              "      <th>boundary_contribution</th>\n",
              "      <th>dismissal_status</th>\n",
              "      <th>bowler_name</th>\n",
              "      <th>fielder_involved</th>\n",
              "    </tr>\n",
              "  </thead>\n",
              "  <tbody>\n",
              "    <tr>\n",
              "      <th>0</th>\n",
              "      <td>1</td>\n",
              "      <td>Mumbai Indians</td>\n",
              "      <td>Chennai Super Kings</td>\n",
              "      <td>ST Jayasuriya</td>\n",
              "      <td>c Hayden b Thushara</td>\n",
              "      <td>26</td>\n",
              "      <td>20</td>\n",
              "      <td>0</td>\n",
              "      <td>5</td>\n",
              "      <td>0</td>\n",
              "      <td>130.00</td>\n",
              "      <td>normal player</td>\n",
              "      <td>18-04-2009</td>\n",
              "      <td>2009041801</td>\n",
              "      <td>0.769231</td>\n",
              "      <td>caught</td>\n",
              "      <td>Thushara</td>\n",
              "      <td>1</td>\n",
              "    </tr>\n",
              "    <tr>\n",
              "      <th>1</th>\n",
              "      <td>1</td>\n",
              "      <td>Mumbai Indians</td>\n",
              "      <td>Chennai Super Kings</td>\n",
              "      <td>SR Tendulkar</td>\n",
              "      <td>not out</td>\n",
              "      <td>59</td>\n",
              "      <td>49</td>\n",
              "      <td>0</td>\n",
              "      <td>7</td>\n",
              "      <td>0</td>\n",
              "      <td>120.40</td>\n",
              "      <td>captain</td>\n",
              "      <td>18-04-2009</td>\n",
              "      <td>2009041801</td>\n",
              "      <td>0.474576</td>\n",
              "      <td>not out</td>\n",
              "      <td>NaN</td>\n",
              "      <td>0</td>\n",
              "    </tr>\n",
              "    <tr>\n",
              "      <th>2</th>\n",
              "      <td>1</td>\n",
              "      <td>Mumbai Indians</td>\n",
              "      <td>Chennai Super Kings</td>\n",
              "      <td>S Dhawan</td>\n",
              "      <td>c Dhoni b Gony</td>\n",
              "      <td>22</td>\n",
              "      <td>21</td>\n",
              "      <td>0</td>\n",
              "      <td>2</td>\n",
              "      <td>0</td>\n",
              "      <td>104.76</td>\n",
              "      <td>normal player</td>\n",
              "      <td>18-04-2009</td>\n",
              "      <td>2009041801</td>\n",
              "      <td>0.363636</td>\n",
              "      <td>caught</td>\n",
              "      <td>Gony</td>\n",
              "      <td>1</td>\n",
              "    </tr>\n",
              "    <tr>\n",
              "      <th>3</th>\n",
              "      <td>1</td>\n",
              "      <td>Mumbai Indians</td>\n",
              "      <td>Chennai Super Kings</td>\n",
              "      <td>JP Duminy</td>\n",
              "      <td>c &amp; b Gony</td>\n",
              "      <td>9</td>\n",
              "      <td>7</td>\n",
              "      <td>0</td>\n",
              "      <td>1</td>\n",
              "      <td>0</td>\n",
              "      <td>128.57</td>\n",
              "      <td>normal player</td>\n",
              "      <td>18-04-2009</td>\n",
              "      <td>2009041801</td>\n",
              "      <td>0.444444</td>\n",
              "      <td>caught</td>\n",
              "      <td>Gony</td>\n",
              "      <td>1</td>\n",
              "    </tr>\n",
              "    <tr>\n",
              "      <th>4</th>\n",
              "      <td>1</td>\n",
              "      <td>Mumbai Indians</td>\n",
              "      <td>Chennai Super Kings</td>\n",
              "      <td>DJ Bravo</td>\n",
              "      <td>c Hayden b Joginder Sharma</td>\n",
              "      <td>5</td>\n",
              "      <td>4</td>\n",
              "      <td>0</td>\n",
              "      <td>1</td>\n",
              "      <td>0</td>\n",
              "      <td>125.00</td>\n",
              "      <td>normal player</td>\n",
              "      <td>18-04-2009</td>\n",
              "      <td>2009041801</td>\n",
              "      <td>0.800000</td>\n",
              "      <td>caught</td>\n",
              "      <td>Joginder Sharma</td>\n",
              "      <td>1</td>\n",
              "    </tr>\n",
              "  </tbody>\n",
              "</table>\n",
              "</div>"
            ],
            "text/plain": [
              "  match_no          team_1  ...      bowler_name fielder_involved\n",
              "0        1  Mumbai Indians  ...         Thushara                1\n",
              "1        1  Mumbai Indians  ...              NaN                0\n",
              "2        1  Mumbai Indians  ...             Gony                1\n",
              "3        1  Mumbai Indians  ...             Gony                1\n",
              "4        1  Mumbai Indians  ...  Joginder Sharma                1\n",
              "\n",
              "[5 rows x 18 columns]"
            ]
          },
          "metadata": {
            "tags": []
          },
          "execution_count": 51
        }
      ]
    },
    {
      "cell_type": "code",
      "metadata": {
        "id": "gJg32RL_0efa",
        "colab_type": "code",
        "colab": {
          "base_uri": "https://localhost:8080/",
          "height": 498
        },
        "outputId": "8730f214-7c2b-4608-bc88-93760a7885c4"
      },
      "source": [
        "ax=sns.countplot(x=\"dismissal_status\", data=dfbat)\n",
        "ax.figure.set_size_inches(15,8)"
      ],
      "execution_count": 58,
      "outputs": [
        {
          "output_type": "display_data",
          "data": {
            "image/png": "[encoded data removed]",
            "text/plain": [
              "<Figure size 1080x576 with 1 Axes>"
            ]
          },
          "metadata": {
            "tags": [],
            "needs_background": "light"
          }
        }
      ]
    },
    {
      "cell_type": "markdown",
      "metadata": {
        "colab_type": "text",
        "id": "i_-gvAvBGuc0"
      },
      "source": [
        "### **Question 8**\n",
        "* Create a dataframe at a player level. Calculate below mentioned metrics :\n",
        "  * #50s\n",
        "  * #100s\n",
        "  * #4s\n",
        "  * #6s\n",
        "  * Average\n",
        "* Assign below points to the players based on the above metrics and calculate the total points earned : \n",
        "  * 1 half century = **5 points**\n",
        "  * 1 century = **10 points**\n",
        "  * 1 four = **2 point**\n",
        "  * 1 six = **4 points**\n",
        "  * Average > 30 = **20 points**\n",
        "  * Average < 30 = **10 points**\n",
        "\n",
        "* Rank the players based on total points earned. Now list down the top 10 batsmen overall across all IPL seasons\n",
        "------------------\n"
      ]
    },
    {
      "cell_type": "code",
      "metadata": {
        "id": "FU5XddbA3Cl8",
        "colab_type": "code",
        "colab": {
          "base_uri": "https://localhost:8080/",
          "height": 554
        },
        "outputId": "7739d690-fd4b-41bd-f825-cc6dd255926f"
      },
      "source": [
        "dfplayer=dfbat.groupby('batsmen').mean()\n",
        "dfplayer['50s']=0\n",
        "dfplayer['100s']=0\n",
        "for i in range(len(dfplayer.index)):\n",
        "  fours=0\n",
        "  sixes=0\n",
        "  halfcen=0\n",
        "  cen=0\n",
        "  for j in range(len(dfbat)):\n",
        "    if dfbat['batsmen'][j]==dfplayer.index[i]:\n",
        "      fours=fours+dfbat['fours'][j]\n",
        "      sixes=sixes+dfbat['sixes'][j]\n",
        "      if dfbat['R'][j]>50 and dfbat['R'][j]<100:\n",
        "        halfcen=halfcen+1\n",
        "      elif dfbat['R'][j]>100:\n",
        "        cen=cen+1\n",
        "  dfplayer['fours'][i]=fours\n",
        "  dfplayer['sixes'][i]=sixes\n",
        "  dfplayer['50s'][i]=halfcen\n",
        "  dfplayer['100s'][i]=cen\n",
        "\n",
        "\n",
        "dfplayer['avg']=dfplayer['R']\n",
        "dfplayer.drop('R',axis=1,inplace=True)\n",
        "dfplayer.drop('B',axis=1,inplace=True)\n",
        "dfplayer.drop('M',axis=1,inplace=True)\n",
        "dfplayer.drop('SR',axis=1,inplace=True)\n",
        "dfplayer.drop('match_key',axis=1,inplace=True)\n",
        "dfplayer.drop('boundary_contribution',axis=1,inplace=True)\n",
        "dfplayer.drop('fielder_involved',axis=1,inplace=True)\n",
        "\n",
        "\n",
        "dfplayer['points']=0\n",
        "for i in range(len(dfplayer)):\n",
        "  dfplayer['points'][i]=dfplayer['fours'][i]*2+ dfplayer['sixes'][i]*4+ dfplayer['50s'][i]*5 + dfplayer['100s'][i]*10\n",
        "  if dfplayer['avg'][i]>30:\n",
        "    dfplayer['points'][i]=dfplayer['points'][i]+20\n",
        "  else:\n",
        "    dfplayer['points'][i]=dfplayer['points'][i]+10\n",
        "\n",
        "\n",
        "dfplayer.sort_values(by='points',ascending=False,inplace=True)\n",
        "\n",
        "\n",
        "dfplayer['Rank']=0\n",
        "for i in range(len(dfplayer)):\n",
        "  dfplayer['Rank'][i]=i+1"
      ],
      "execution_count": 59,
      "outputs": [
        {
          "output_type": "stream",
          "text": [
            "/usr/local/lib/python3.6/dist-packages/ipykernel_launcher.py:17: SettingWithCopyWarning: \n",
            "A value is trying to be set on a copy of a slice from a DataFrame\n",
            "\n",
            "See the caveats in the documentation: https://pandas.pydata.org/pandas-docs/stable/user_guide/indexing.html#returning-a-view-versus-a-copy\n",
            "/usr/local/lib/python3.6/dist-packages/ipykernel_launcher.py:18: SettingWithCopyWarning: \n",
            "A value is trying to be set on a copy of a slice from a DataFrame\n",
            "\n",
            "See the caveats in the documentation: https://pandas.pydata.org/pandas-docs/stable/user_guide/indexing.html#returning-a-view-versus-a-copy\n",
            "/usr/local/lib/python3.6/dist-packages/ipykernel_launcher.py:19: SettingWithCopyWarning: \n",
            "A value is trying to be set on a copy of a slice from a DataFrame\n",
            "\n",
            "See the caveats in the documentation: https://pandas.pydata.org/pandas-docs/stable/user_guide/indexing.html#returning-a-view-versus-a-copy\n",
            "/usr/local/lib/python3.6/dist-packages/ipykernel_launcher.py:20: SettingWithCopyWarning: \n",
            "A value is trying to be set on a copy of a slice from a DataFrame\n",
            "\n",
            "See the caveats in the documentation: https://pandas.pydata.org/pandas-docs/stable/user_guide/indexing.html#returning-a-view-versus-a-copy\n",
            "/usr/local/lib/python3.6/dist-packages/ipykernel_launcher.py:35: SettingWithCopyWarning: \n",
            "A value is trying to be set on a copy of a slice from a DataFrame\n",
            "\n",
            "See the caveats in the documentation: https://pandas.pydata.org/pandas-docs/stable/user_guide/indexing.html#returning-a-view-versus-a-copy\n",
            "/usr/local/lib/python3.6/dist-packages/ipykernel_launcher.py:39: SettingWithCopyWarning: \n",
            "A value is trying to be set on a copy of a slice from a DataFrame\n",
            "\n",
            "See the caveats in the documentation: https://pandas.pydata.org/pandas-docs/stable/user_guide/indexing.html#returning-a-view-versus-a-copy\n",
            "/usr/local/lib/python3.6/dist-packages/ipykernel_launcher.py:37: SettingWithCopyWarning: \n",
            "A value is trying to be set on a copy of a slice from a DataFrame\n",
            "\n",
            "See the caveats in the documentation: https://pandas.pydata.org/pandas-docs/stable/user_guide/indexing.html#returning-a-view-versus-a-copy\n",
            "/usr/local/lib/python3.6/dist-packages/ipykernel_launcher.py:47: SettingWithCopyWarning: \n",
            "A value is trying to be set on a copy of a slice from a DataFrame\n",
            "\n",
            "See the caveats in the documentation: https://pandas.pydata.org/pandas-docs/stable/user_guide/indexing.html#returning-a-view-versus-a-copy\n"
          ],
          "name": "stderr"
        }
      ]
    },
    {
      "cell_type": "code",
      "metadata": {
        "id": "f3x47S3g3dTu",
        "colab_type": "code",
        "colab": {
          "base_uri": "https://localhost:8080/",
          "height": 373
        },
        "outputId": "8dfd4a4a-034c-42f7-ea15-a6ca59691c58"
      },
      "source": [
        "dfplayer.head(10)"
      ],
      "execution_count": 61,
      "outputs": [
        {
          "output_type": "execute_result",
          "data": {
            "text/html": [
              "<div>\n",
              "<style scoped>\n",
              "    .dataframe tbody tr th:only-of-type {\n",
              "        vertical-align: middle;\n",
              "    }\n",
              "\n",
              "    .dataframe tbody tr th {\n",
              "        vertical-align: top;\n",
              "    }\n",
              "\n",
              "    .dataframe thead th {\n",
              "        text-align: right;\n",
              "    }\n",
              "</style>\n",
              "<table border=\"1\" class=\"dataframe\">\n",
              "  <thead>\n",
              "    <tr style=\"text-align: right;\">\n",
              "      <th></th>\n",
              "      <th>fours</th>\n",
              "      <th>sixes</th>\n",
              "      <th>50s</th>\n",
              "      <th>100s</th>\n",
              "      <th>avg</th>\n",
              "      <th>points</th>\n",
              "      <th>Rank</th>\n",
              "    </tr>\n",
              "    <tr>\n",
              "      <th>batsmen</th>\n",
              "      <th></th>\n",
              "      <th></th>\n",
              "      <th></th>\n",
              "      <th></th>\n",
              "      <th></th>\n",
              "      <th></th>\n",
              "      <th></th>\n",
              "    </tr>\n",
              "  </thead>\n",
              "  <tbody>\n",
              "    <tr>\n",
              "      <th>CH Gayle</th>\n",
              "      <td>368.0</td>\n",
              "      <td>326.0</td>\n",
              "      <td>27</td>\n",
              "      <td>6</td>\n",
              "      <td>36.161290</td>\n",
              "      <td>2255</td>\n",
              "      <td>1</td>\n",
              "    </tr>\n",
              "    <tr>\n",
              "      <th>SK Raina</th>\n",
              "      <td>493.0</td>\n",
              "      <td>194.0</td>\n",
              "      <td>37</td>\n",
              "      <td>0</td>\n",
              "      <td>28.402116</td>\n",
              "      <td>1957</td>\n",
              "      <td>2</td>\n",
              "    </tr>\n",
              "    <tr>\n",
              "      <th>V Kohli</th>\n",
              "      <td>480.0</td>\n",
              "      <td>190.0</td>\n",
              "      <td>35</td>\n",
              "      <td>3</td>\n",
              "      <td>32.023669</td>\n",
              "      <td>1945</td>\n",
              "      <td>3</td>\n",
              "    </tr>\n",
              "    <tr>\n",
              "      <th>DA Warner</th>\n",
              "      <td>458.0</td>\n",
              "      <td>181.0</td>\n",
              "      <td>43</td>\n",
              "      <td>3</td>\n",
              "      <td>37.349206</td>\n",
              "      <td>1905</td>\n",
              "      <td>4</td>\n",
              "    </tr>\n",
              "    <tr>\n",
              "      <th>RG Sharma</th>\n",
              "      <td>431.0</td>\n",
              "      <td>194.0</td>\n",
              "      <td>31</td>\n",
              "      <td>1</td>\n",
              "      <td>26.765027</td>\n",
              "      <td>1813</td>\n",
              "      <td>5</td>\n",
              "    </tr>\n",
              "    <tr>\n",
              "      <th>AB de Villiers</th>\n",
              "      <td>357.0</td>\n",
              "      <td>212.0</td>\n",
              "      <td>30</td>\n",
              "      <td>3</td>\n",
              "      <td>30.950704</td>\n",
              "      <td>1762</td>\n",
              "      <td>6</td>\n",
              "    </tr>\n",
              "    <tr>\n",
              "      <th>RV Uthappa</th>\n",
              "      <td>435.0</td>\n",
              "      <td>156.0</td>\n",
              "      <td>23</td>\n",
              "      <td>0</td>\n",
              "      <td>25.947059</td>\n",
              "      <td>1619</td>\n",
              "      <td>7</td>\n",
              "    </tr>\n",
              "    <tr>\n",
              "      <th>S Dhawan</th>\n",
              "      <td>524.0</td>\n",
              "      <td>96.0</td>\n",
              "      <td>30</td>\n",
              "      <td>0</td>\n",
              "      <td>28.981013</td>\n",
              "      <td>1592</td>\n",
              "      <td>8</td>\n",
              "    </tr>\n",
              "    <tr>\n",
              "      <th>MS Dhoni</th>\n",
              "      <td>297.0</td>\n",
              "      <td>209.0</td>\n",
              "      <td>23</td>\n",
              "      <td>0</td>\n",
              "      <td>26.070588</td>\n",
              "      <td>1555</td>\n",
              "      <td>9</td>\n",
              "    </tr>\n",
              "    <tr>\n",
              "      <th>SR Watson</th>\n",
              "      <td>343.0</td>\n",
              "      <td>177.0</td>\n",
              "      <td>17</td>\n",
              "      <td>4</td>\n",
              "      <td>27.500000</td>\n",
              "      <td>1529</td>\n",
              "      <td>10</td>\n",
              "    </tr>\n",
              "  </tbody>\n",
              "</table>\n",
              "</div>"
            ],
            "text/plain": [
              "                fours  sixes  50s  100s        avg  points  Rank\n",
              "batsmen                                                         \n",
              "CH Gayle        368.0  326.0   27     6  36.161290    2255     1\n",
              "SK Raina        493.0  194.0   37     0  28.402116    1957     2\n",
              "V Kohli         480.0  190.0   35     3  32.023669    1945     3\n",
              "DA Warner       458.0  181.0   43     3  37.349206    1905     4\n",
              "RG Sharma       431.0  194.0   31     1  26.765027    1813     5\n",
              "AB de Villiers  357.0  212.0   30     3  30.950704    1762     6\n",
              "RV Uthappa      435.0  156.0   23     0  25.947059    1619     7\n",
              "S Dhawan        524.0   96.0   30     0  28.981013    1592     8\n",
              "MS Dhoni        297.0  209.0   23     0  26.070588    1555     9\n",
              "SR Watson       343.0  177.0   17     4  27.500000    1529    10"
            ]
          },
          "metadata": {
            "tags": []
          },
          "execution_count": 61
        }
      ]
    },
    {
      "cell_type": "markdown",
      "metadata": {
        "id": "bZq0xj1u32xp",
        "colab_type": "text"
      },
      "source": [
        "Therefore, these are the top 10 batsmen across all IPL Seasons with Chris Gayle topping the charts!"
      ]
    },
    {
      "cell_type": "markdown",
      "metadata": {
        "colab_type": "text",
        "id": "x8hPQwhAKV1I"
      },
      "source": [
        "### **Question 9**\n",
        "* Look for a column called **Special_role** to denote if a player is captain or not. \n",
        "* **Filter** the dataframe based on if a player is a captain.\n",
        "* Pick all the innings by the captains (For **IPL 2017**) and plot a **box and whiskers plot** of **%run_contribution** per captain\n",
        "  * Which captain do you think has played **captain's knock** most of the times? (purely going by % contribution to scorecard for now)\n",
        "------------------\n"
      ]
    },
    {
      "cell_type": "code",
      "metadata": {
        "id": "2RARVN80k3GB",
        "colab_type": "code",
        "colab": {}
      },
      "source": [
        "dfdel = pd.read_csv('drive/My Drive/data/ipl_deliveries.csv')\n",
        "bat_2017 = dfbat[(dfbat['special_role'] == 'captain') & (dfbat['match_date'].str[-4:] == '2017')]\n",
        "matches_2017 = bat_2017['match_key'].unique()"
      ],
      "execution_count": 62,
      "outputs": []
    },
    {
      "cell_type": "code",
      "metadata": {
        "id": "rtTuz_GQX862",
        "colab_type": "code",
        "colab": {
          "base_uri": "https://localhost:8080/",
          "height": 383
        },
        "outputId": "ddced479-60ad-45d6-ab60-579555fa5d82"
      },
      "source": [
        "del_2017_matches = dfdel[dfdel['Match_id'].isin(matches_2017)]\n",
        "del_2017_matches.head()"
      ],
      "execution_count": 63,
      "outputs": [
        {
          "output_type": "execute_result",
          "data": {
            "text/html": [
              "<div>\n",
              "<style scoped>\n",
              "    .dataframe tbody tr th:only-of-type {\n",
              "        vertical-align: middle;\n",
              "    }\n",
              "\n",
              "    .dataframe tbody tr th {\n",
              "        vertical-align: top;\n",
              "    }\n",
              "\n",
              "    .dataframe thead th {\n",
              "        text-align: right;\n",
              "    }\n",
              "</style>\n",
              "<table border=\"1\" class=\"dataframe\">\n",
              "  <thead>\n",
              "    <tr style=\"text-align: right;\">\n",
              "      <th></th>\n",
              "      <th>Match_id</th>\n",
              "      <th>City</th>\n",
              "      <th>Innings</th>\n",
              "      <th>Winner</th>\n",
              "      <th>Team</th>\n",
              "      <th>Over</th>\n",
              "      <th>Delivery</th>\n",
              "      <th>Batsman</th>\n",
              "      <th>Bowler</th>\n",
              "      <th>non_striker</th>\n",
              "      <th>runs_batsman</th>\n",
              "      <th>runs_extras</th>\n",
              "      <th>extras_type</th>\n",
              "      <th>Runs_total</th>\n",
              "      <th>player_out</th>\n",
              "      <th>mode_of_dismissal</th>\n",
              "      <th>fielders_involved</th>\n",
              "      <th>file_name</th>\n",
              "    </tr>\n",
              "  </thead>\n",
              "  <tbody>\n",
              "    <tr>\n",
              "      <th>10325</th>\n",
              "      <td>2017040801</td>\n",
              "      <td>Bangalore</td>\n",
              "      <td>1</td>\n",
              "      <td>Royal Challengers Bangalore</td>\n",
              "      <td>Royal Challengers Bangalore</td>\n",
              "      <td>1</td>\n",
              "      <td>0.1</td>\n",
              "      <td>CH Gayle</td>\n",
              "      <td>Z Khan</td>\n",
              "      <td>SR Watson</td>\n",
              "      <td>1</td>\n",
              "      <td>0</td>\n",
              "      <td>NaN</td>\n",
              "      <td>1</td>\n",
              "      <td>NaN</td>\n",
              "      <td>NaN</td>\n",
              "      <td>NaN</td>\n",
              "      <td>1082595.yaml</td>\n",
              "    </tr>\n",
              "    <tr>\n",
              "      <th>10326</th>\n",
              "      <td>2017040801</td>\n",
              "      <td>Bangalore</td>\n",
              "      <td>1</td>\n",
              "      <td>Royal Challengers Bangalore</td>\n",
              "      <td>Royal Challengers Bangalore</td>\n",
              "      <td>1</td>\n",
              "      <td>0.2</td>\n",
              "      <td>SR Watson</td>\n",
              "      <td>Z Khan</td>\n",
              "      <td>CH Gayle</td>\n",
              "      <td>4</td>\n",
              "      <td>0</td>\n",
              "      <td>NaN</td>\n",
              "      <td>4</td>\n",
              "      <td>NaN</td>\n",
              "      <td>NaN</td>\n",
              "      <td>NaN</td>\n",
              "      <td>1082595.yaml</td>\n",
              "    </tr>\n",
              "    <tr>\n",
              "      <th>10327</th>\n",
              "      <td>2017040801</td>\n",
              "      <td>Bangalore</td>\n",
              "      <td>1</td>\n",
              "      <td>Royal Challengers Bangalore</td>\n",
              "      <td>Royal Challengers Bangalore</td>\n",
              "      <td>1</td>\n",
              "      <td>0.3</td>\n",
              "      <td>SR Watson</td>\n",
              "      <td>Z Khan</td>\n",
              "      <td>CH Gayle</td>\n",
              "      <td>0</td>\n",
              "      <td>0</td>\n",
              "      <td>NaN</td>\n",
              "      <td>0</td>\n",
              "      <td>NaN</td>\n",
              "      <td>NaN</td>\n",
              "      <td>NaN</td>\n",
              "      <td>1082595.yaml</td>\n",
              "    </tr>\n",
              "    <tr>\n",
              "      <th>10328</th>\n",
              "      <td>2017040801</td>\n",
              "      <td>Bangalore</td>\n",
              "      <td>1</td>\n",
              "      <td>Royal Challengers Bangalore</td>\n",
              "      <td>Royal Challengers Bangalore</td>\n",
              "      <td>1</td>\n",
              "      <td>0.4</td>\n",
              "      <td>SR Watson</td>\n",
              "      <td>Z Khan</td>\n",
              "      <td>CH Gayle</td>\n",
              "      <td>4</td>\n",
              "      <td>0</td>\n",
              "      <td>NaN</td>\n",
              "      <td>4</td>\n",
              "      <td>NaN</td>\n",
              "      <td>NaN</td>\n",
              "      <td>NaN</td>\n",
              "      <td>1082595.yaml</td>\n",
              "    </tr>\n",
              "    <tr>\n",
              "      <th>10329</th>\n",
              "      <td>2017040801</td>\n",
              "      <td>Bangalore</td>\n",
              "      <td>1</td>\n",
              "      <td>Royal Challengers Bangalore</td>\n",
              "      <td>Royal Challengers Bangalore</td>\n",
              "      <td>1</td>\n",
              "      <td>0.5</td>\n",
              "      <td>SR Watson</td>\n",
              "      <td>Z Khan</td>\n",
              "      <td>CH Gayle</td>\n",
              "      <td>0</td>\n",
              "      <td>0</td>\n",
              "      <td>NaN</td>\n",
              "      <td>0</td>\n",
              "      <td>NaN</td>\n",
              "      <td>NaN</td>\n",
              "      <td>NaN</td>\n",
              "      <td>1082595.yaml</td>\n",
              "    </tr>\n",
              "  </tbody>\n",
              "</table>\n",
              "</div>"
            ],
            "text/plain": [
              "         Match_id       City  ...  fielders_involved     file_name\n",
              "10325  2017040801  Bangalore  ...                NaN  1082595.yaml\n",
              "10326  2017040801  Bangalore  ...                NaN  1082595.yaml\n",
              "10327  2017040801  Bangalore  ...                NaN  1082595.yaml\n",
              "10328  2017040801  Bangalore  ...                NaN  1082595.yaml\n",
              "10329  2017040801  Bangalore  ...                NaN  1082595.yaml\n",
              "\n",
              "[5 rows x 18 columns]"
            ]
          },
          "metadata": {
            "tags": []
          },
          "execution_count": 63
        }
      ]
    },
    {
      "cell_type": "code",
      "metadata": {
        "id": "cpkdC9jShKyl",
        "colab_type": "code",
        "colab": {
          "base_uri": "https://localhost:8080/",
          "height": 34
        },
        "outputId": "0b3ad9e9-0553-4b1c-f135-5ec593a714e7"
      },
      "source": [
        "bat_2017['batsmen'].drop_duplicates().shape"
      ],
      "execution_count": 64,
      "outputs": [
        {
          "output_type": "execute_result",
          "data": {
            "text/plain": [
              "(11,)"
            ]
          },
          "metadata": {
            "tags": []
          },
          "execution_count": 64
        }
      ]
    },
    {
      "cell_type": "code",
      "metadata": {
        "id": "wYZu4zjrbSdK",
        "colab_type": "code",
        "colab": {
          "base_uri": "https://localhost:8080/",
          "height": 202
        },
        "outputId": "a02694c2-e8b5-4659-81f3-8a41af3a8763"
      },
      "source": [
        "batsman_team_df = del_2017_matches[del_2017_matches['Batsman'].isin(bat_2017['batsmen'].drop_duplicates())][['Batsman', 'Team']].drop_duplicates()\n",
        "\n",
        "capt_to_team = dict(zip(batsman_team_df.Batsman, batsman_team_df.Team))\n",
        "capt_to_team"
      ],
      "execution_count": 65,
      "outputs": [
        {
          "output_type": "execute_result",
          "data": {
            "text/plain": [
              "{'AM Rahane': 'Rising Pune Supergiant',\n",
              " 'DA Warner': 'Sunrisers Hyderabad',\n",
              " 'G Gambhir': 'Kolkata Knight Riders',\n",
              " 'GJ Maxwell': 'Kings XI Punjab',\n",
              " 'KK Nair': 'Delhi Daredevils',\n",
              " 'RG Sharma': 'Mumbai Indians',\n",
              " 'SK Raina': 'Gujarat Lions',\n",
              " 'SPD Smith': 'Rising Pune Supergiant',\n",
              " 'SR Watson': 'Royal Challengers Bangalore',\n",
              " 'V Kohli': 'Royal Challengers Bangalore',\n",
              " 'Z Khan': 'Delhi Daredevils'}"
            ]
          },
          "metadata": {
            "tags": []
          },
          "execution_count": 65
        }
      ]
    },
    {
      "cell_type": "code",
      "metadata": {
        "id": "gNndl_xEW6gj",
        "colab_type": "code",
        "colab": {
          "base_uri": "https://localhost:8080/",
          "height": 225
        },
        "outputId": "44e87d9b-4b3f-4691-ae5b-f0d838179fc4"
      },
      "source": [
        "teams_score_all = del_2017_matches.groupby(['Match_id', 'Team']).agg({'runs_batsman':'sum'})\n",
        "teams_score_all.head()"
      ],
      "execution_count": 66,
      "outputs": [
        {
          "output_type": "execute_result",
          "data": {
            "text/html": [
              "<div>\n",
              "<style scoped>\n",
              "    .dataframe tbody tr th:only-of-type {\n",
              "        vertical-align: middle;\n",
              "    }\n",
              "\n",
              "    .dataframe tbody tr th {\n",
              "        vertical-align: top;\n",
              "    }\n",
              "\n",
              "    .dataframe thead th {\n",
              "        text-align: right;\n",
              "    }\n",
              "</style>\n",
              "<table border=\"1\" class=\"dataframe\">\n",
              "  <thead>\n",
              "    <tr style=\"text-align: right;\">\n",
              "      <th></th>\n",
              "      <th></th>\n",
              "      <th>runs_batsman</th>\n",
              "    </tr>\n",
              "    <tr>\n",
              "      <th>Match_id</th>\n",
              "      <th>Team</th>\n",
              "      <th></th>\n",
              "    </tr>\n",
              "  </thead>\n",
              "  <tbody>\n",
              "    <tr>\n",
              "      <th rowspan=\"2\" valign=\"top\">2017040501</th>\n",
              "      <th>Royal Challengers Bangalore</th>\n",
              "      <td>166</td>\n",
              "    </tr>\n",
              "    <tr>\n",
              "      <th>Sunrisers Hyderabad</th>\n",
              "      <td>200</td>\n",
              "    </tr>\n",
              "    <tr>\n",
              "      <th rowspan=\"2\" valign=\"top\">2017040601</th>\n",
              "      <th>Mumbai Indians</th>\n",
              "      <td>176</td>\n",
              "    </tr>\n",
              "    <tr>\n",
              "      <th>Rising Pune Supergiant</th>\n",
              "      <td>183</td>\n",
              "    </tr>\n",
              "    <tr>\n",
              "      <th>2017040701</th>\n",
              "      <th>Gujarat Lions</th>\n",
              "      <td>179</td>\n",
              "    </tr>\n",
              "  </tbody>\n",
              "</table>\n",
              "</div>"
            ],
            "text/plain": [
              "                                        runs_batsman\n",
              "Match_id   Team                                     \n",
              "2017040501 Royal Challengers Bangalore           166\n",
              "           Sunrisers Hyderabad                   200\n",
              "2017040601 Mumbai Indians                        176\n",
              "           Rising Pune Supergiant                183\n",
              "2017040701 Gujarat Lions                         179"
            ]
          },
          "metadata": {
            "tags": []
          },
          "execution_count": 66
        }
      ]
    },
    {
      "cell_type": "markdown",
      "metadata": {
        "id": "R2E4RkAXnLdd",
        "colab_type": "text"
      },
      "source": [
        "## Analysis\n",
        "\n",
        "By considering only the run contribution, **David Warner** has played the best amongst all other captains, by keeping the contribution median higher than others.\n",
        "Warner is followed by Virat Kohli, and Gautam Gambhir."
      ]
    },
    {
      "cell_type": "markdown",
      "metadata": {
        "colab_type": "text",
        "id": "cW8mRjJbhFar"
      },
      "source": [
        "### **Question 10**\n",
        "* Is IPL more in favor of batsmen?\n",
        "* Let's consider two metrics **total_runs** made in a match and the **run_rate** of the match\n",
        "* Create a **histogram** of **total_runs** by match. What kind of a **distribution** your discover?\n",
        "* **Repeat** the above step for **run_rate** per match too\n",
        "* Is the distribution **left skewed** or **right skewed**?\n",
        "* Discuss your insights\n",
        "\n",
        "------------------"
      ]
    },
    {
      "cell_type": "code",
      "metadata": {
        "id": "WOs1fbtQ7j_T",
        "colab_type": "code",
        "colab": {}
      },
      "source": [
        "balls = dfdel.groupby(dfdel['Match_id']).agg('count')\n",
        "balls = balls.reset_index()"
      ],
      "execution_count": 67,
      "outputs": []
    },
    {
      "cell_type": "code",
      "metadata": {
        "id": "KnIplYte7qgq",
        "colab_type": "code",
        "colab": {}
      },
      "source": [
        "runs = dfdel.groupby(dfdel['Match_id']).sum()\n",
        "runs= runs.reset_index()"
      ],
      "execution_count": 68,
      "outputs": []
    },
    {
      "cell_type": "code",
      "metadata": {
        "id": "mx5O9jc-71_6",
        "colab_type": "code",
        "colab": {}
      },
      "source": [
        "hist = pd.DataFrame(balls.Match_id)\n",
        "hist['Runs'] = runs['Runs_total']\n",
        "hist['Over'] = balls['Over']/6\n",
        "hist['Run_rate'] = hist['Runs']/hist['Over']"
      ],
      "execution_count": 69,
      "outputs": []
    },
    {
      "cell_type": "code",
      "metadata": {
        "id": "b3czXUFp8GVn",
        "colab_type": "code",
        "colab": {
          "base_uri": "https://localhost:8080/",
          "height": 195
        },
        "outputId": "321d561f-31f7-4ecf-c0c9-14f49f06032d"
      },
      "source": [
        "hist.head()"
      ],
      "execution_count": 71,
      "outputs": [
        {
          "output_type": "execute_result",
          "data": {
            "text/html": [
              "<div>\n",
              "<style scoped>\n",
              "    .dataframe tbody tr th:only-of-type {\n",
              "        vertical-align: middle;\n",
              "    }\n",
              "\n",
              "    .dataframe tbody tr th {\n",
              "        vertical-align: top;\n",
              "    }\n",
              "\n",
              "    .dataframe thead th {\n",
              "        text-align: right;\n",
              "    }\n",
              "</style>\n",
              "<table border=\"1\" class=\"dataframe\">\n",
              "  <thead>\n",
              "    <tr style=\"text-align: right;\">\n",
              "      <th></th>\n",
              "      <th>Match_id</th>\n",
              "      <th>Runs</th>\n",
              "      <th>Over</th>\n",
              "      <th>Run_rate</th>\n",
              "    </tr>\n",
              "  </thead>\n",
              "  <tbody>\n",
              "    <tr>\n",
              "      <th>0</th>\n",
              "      <td>2008041801</td>\n",
              "      <td>304</td>\n",
              "      <td>37.500000</td>\n",
              "      <td>8.106667</td>\n",
              "    </tr>\n",
              "    <tr>\n",
              "      <th>1</th>\n",
              "      <td>2008041901</td>\n",
              "      <td>447</td>\n",
              "      <td>41.333333</td>\n",
              "      <td>10.814516</td>\n",
              "    </tr>\n",
              "    <tr>\n",
              "      <th>2</th>\n",
              "      <td>2008041902</td>\n",
              "      <td>261</td>\n",
              "      <td>36.500000</td>\n",
              "      <td>7.150685</td>\n",
              "    </tr>\n",
              "    <tr>\n",
              "      <th>3</th>\n",
              "      <td>2008042001</td>\n",
              "      <td>222</td>\n",
              "      <td>40.000000</td>\n",
              "      <td>5.550000</td>\n",
              "    </tr>\n",
              "    <tr>\n",
              "      <th>4</th>\n",
              "      <td>2008042002</td>\n",
              "      <td>331</td>\n",
              "      <td>41.000000</td>\n",
              "      <td>8.073171</td>\n",
              "    </tr>\n",
              "  </tbody>\n",
              "</table>\n",
              "</div>"
            ],
            "text/plain": [
              "     Match_id  Runs       Over   Run_rate\n",
              "0  2008041801   304  37.500000   8.106667\n",
              "1  2008041901   447  41.333333  10.814516\n",
              "2  2008041902   261  36.500000   7.150685\n",
              "3  2008042001   222  40.000000   5.550000\n",
              "4  2008042002   331  41.000000   8.073171"
            ]
          },
          "metadata": {
            "tags": []
          },
          "execution_count": 71
        }
      ]
    },
    {
      "cell_type": "code",
      "metadata": {
        "id": "qWgayBks8XrN",
        "colab_type": "code",
        "colab": {
          "base_uri": "https://localhost:8080/",
          "height": 265
        },
        "outputId": "291d81e5-4f90-4aae-e963-edb01581fe4a"
      },
      "source": [
        "plt.hist(hist['Runs'])\n",
        "plt.show()"
      ],
      "execution_count": 72,
      "outputs": [
        {
          "output_type": "display_data",
          "data": {
            "image/png": "[encoded data removed]",
            "text/plain": [
              "<Figure size 432x288 with 1 Axes>"
            ]
          },
          "metadata": {
            "tags": [],
            "needs_background": "light"
          }
        }
      ]
    },
    {
      "cell_type": "code",
      "metadata": {
        "id": "pplAlaVJ8jk-",
        "colab_type": "code",
        "colab": {
          "base_uri": "https://localhost:8080/",
          "height": 34
        },
        "outputId": "acd95853-024a-4329-8d3a-88f90e763e40"
      },
      "source": [
        "from scipy.stats import skew\n",
        "print (skew(hist['Runs']))"
      ],
      "execution_count": 73,
      "outputs": [
        {
          "output_type": "stream",
          "text": [
            "0.16549864555640462\n"
          ],
          "name": "stdout"
        }
      ]
    },
    {
      "cell_type": "markdown",
      "metadata": {
        "id": "vpEc7FV08lxT",
        "colab_type": "text"
      },
      "source": [
        "The skewness of the histogram is positive which means that it is a right skewed distribution."
      ]
    },
    {
      "cell_type": "code",
      "metadata": {
        "id": "-uJ2Rg9_9DX1",
        "colab_type": "code",
        "colab": {
          "base_uri": "https://localhost:8080/",
          "height": 265
        },
        "outputId": "438cab34-6a53-4a49-b546-9b1c6ba81419"
      },
      "source": [
        "plt.hist(hist['Run_rate'])\n",
        "plt.show()"
      ],
      "execution_count": 74,
      "outputs": [
        {
          "output_type": "display_data",
          "data": {
            "image/png": "[encoded data removed]",
            "text/plain": [
              "<Figure size 432x288 with 1 Axes>"
            ]
          },
          "metadata": {
            "tags": [],
            "needs_background": "light"
          }
        }
      ]
    },
    {
      "cell_type": "code",
      "metadata": {
        "id": "TTg38aVc9OZs",
        "colab_type": "code",
        "colab": {
          "base_uri": "https://localhost:8080/",
          "height": 34
        },
        "outputId": "11a21163-ab1f-41bf-96e7-ab8fff73177e"
      },
      "source": [
        "print (skew(hist['Run_rate']))"
      ],
      "execution_count": 75,
      "outputs": [
        {
          "output_type": "stream",
          "text": [
            "0.23495544079264055\n"
          ],
          "name": "stdout"
        }
      ]
    },
    {
      "cell_type": "markdown",
      "metadata": {
        "id": "T0DYVmUs9UPi",
        "colab_type": "text"
      },
      "source": [
        "The skewness of the Run_rate histogram is also positive therefore means that this is also a right-skewed distribution."
      ]
    },
    {
      "cell_type": "markdown",
      "metadata": {
        "id": "B8d-7qfbn94P",
        "colab_type": "text"
      },
      "source": [
        "### **Question 11**\n",
        "* **Filter** the histogram (created in **Question 10**) for an **IPL season**. Ex. IPL 2016\n",
        "* Also, filter the histogram for a **team** within a **season**. Ex. for CSK within IPL 2016\n",
        "* **Describe** your observations. Think along the following **questions** : \n",
        "  * What is the meaning of **skewness**?\n",
        "  * Is there an **observable difference** between the **rate of runs** scored for some teams over others?\n",
        "    * Choose appropriate **visualization** to understand **run_rate** of teams (**Hint :** Violin charts)\n",
        "    * Which teams are strong at making **large quantity** of runs?\n",
        "    * Which teams are strong at making runs at a **quicker rate**? (Consider run a ball the **base line** for **under** or **over** indexing teams)\n",
        "\n",
        "* **Note :** *A metric is said to be under-indexed when it's value is less than the baseline value. Similarly it is said to be over-indexed when it's value is more than the baseline value*\n",
        "\n",
        "-------------------------\n",
        "    "
      ]
    },
    {
      "cell_type": "code",
      "metadata": {
        "id": "s4IzMvAAGyJ7",
        "colab_type": "code",
        "colab": {}
      },
      "source": [
        "hist2016 = hist[hist['Match_id'].astype(str).str.contains('2016')]"
      ],
      "execution_count": 91,
      "outputs": []
    },
    {
      "cell_type": "code",
      "metadata": {
        "id": "X-hFJM0UHEtk",
        "colab_type": "code",
        "colab": {
          "base_uri": "https://localhost:8080/",
          "height": 513
        },
        "outputId": "b9a19460-4f91-408c-f0e4-ed116291fe06"
      },
      "source": [
        "plt.hist(hist2016['Runs'])\n",
        "plt.show()\n",
        "plt.hist(hist2016['Run_rate'])\n",
        "plt.show()"
      ],
      "execution_count": 94,
      "outputs": [
        {
          "output_type": "display_data",
          "data": {
            "image/png": "[encoded data removed]",
            "text/plain": [
              "<Figure size 432x288 with 1 Axes>"
            ]
          },
          "metadata": {
            "tags": [],
            "needs_background": "light"
          }
        },
        {
          "output_type": "display_data",
          "data": {
            "image/png": "[encoded data removed]",
            "text/plain": [
              "<Figure size 432x288 with 1 Axes>"
            ]
          },
          "metadata": {
            "tags": [],
            "needs_background": "light"
          }
        }
      ]
    },
    {
      "cell_type": "code",
      "metadata": {
        "id": "6p0RibE0HLmO",
        "colab_type": "code",
        "colab": {}
      },
      "source": [
        "ipl_matches_2016 = dfmat[dfmat['Team 1']=='Mumbai Indians']\n",
        "dts = ipl_matches_2016.match_date.to_numpy()\n",
        "match_2016 = list()\n",
        "\n",
        "for i in dts:\n",
        "  if '2016' in i:\n",
        "    temp = i.split('-')\n",
        "    match_2016.append(temp[0]+temp[1]+temp[2]+'01')\n",
        "\n",
        "ipl_matches_2016 = dfmat[dfmat['Team 2']=='Mumbai Indians']\n",
        "dts = ipl_matches_2016.match_date.to_numpy()\n",
        "\n",
        "for i in dts:\n",
        "  if '2016' in i:\n",
        "    temp = i.split('-')\n",
        "    match_2016.append(temp[0]+temp[1]+temp[2]+'02')\n",
        "\n",
        "runs_2016 = list()\n",
        "run_rate = list()\n",
        "for j in match_2016:\n",
        "  if j in hist2016.Match_id.astype(str).to_numpy():\n",
        "    r = hist2016[hist2016['Match_id'].astype(str)==j]['Runs'].to_numpy()[0]\n",
        "    rr = hist2016[hist2016['Match_id'].astype(str)==j]['Run_rate'].to_numpy()[0]\n",
        "    runs_2016.append(r)\n",
        "    run_rate.append(rr)"
      ],
      "execution_count": 95,
      "outputs": []
    },
    {
      "cell_type": "code",
      "metadata": {
        "id": "zENgZpV7JYEk",
        "colab_type": "code",
        "colab": {}
      },
      "source": [
        "ipl_matches_16 = dfmat[dfmat['year']==2016]\n",
        "teams = ipl_matches_16['Team 1'].unique()"
      ],
      "execution_count": 97,
      "outputs": []
    },
    {
      "cell_type": "code",
      "metadata": {
        "id": "CdZLkjV_Jh0r",
        "colab_type": "code",
        "colab": {}
      },
      "source": [
        "for team in teams:\n",
        "  ipl_matches_2016 = dfmat[dfmat['Team 1']==team]\n",
        "  dts = ipl_matches_2016.match_date.to_numpy()\n",
        "  match_2016 = list()\n",
        "  for i in dts:\n",
        "    if '2016' in i:\n",
        "      temp = i.split('-')\n",
        "      match_2016.append(temp[0]+temp[1]+temp[2]+'01')\n",
        "  \n",
        "  ipl_matches_2016 = dfmat[dfmat['Team 2']==team]\n",
        "  dts = ipl_matches_2016.match_date.to_numpy()\n",
        "  for i in dts:\n",
        "    if '2016' in i:\n",
        "      temp = i.split('-')\n",
        "      match_2016.append(temp[0]+temp[1]+temp[2]+'02')\n",
        "  \n",
        "  runs_2016 = list()\n",
        "  run_rate = list()\n",
        "  \n",
        "  for j in match_2016:\n",
        "    if j in hist2016.Match_id.astype(str).to_numpy():\n",
        "      r = hist2016[hist2016['Match_id'].astype(str)==j]['Runs'].to_numpy()[0]\n",
        "      rr = hist2016[hist2016['Match_id'].astype(str)==j]['Run_rate'].to_numpy()[0]\n",
        "      runs_2016.append(r)\n",
        "      run_rate.append(rr)\n",
        "  "
      ],
      "execution_count": 99,
      "outputs": []
    },
    {
      "cell_type": "markdown",
      "metadata": {
        "id": "TBLwlAB76W5K",
        "colab_type": "text"
      },
      "source": [
        "### **Question 12**\n",
        "* Calculate a metric **%fast_innings**. This would be percentage of innings where run_rate is more than base_line run rate of **6.0 per over**\n",
        "    * Which team are top 3 teams by **%fast_innings**?\n",
        "    * What insights do you have about the teams against %fast_innings?\n",
        "* Let's now think of how **fast** or **slow** the run was made.\n",
        "  * We will create a metric which would be an indicator of speed. Let's create a metric called **dist_base_line** which means **innings_run_rate - 6.0**.\n",
        "  * A **negative** value would mean slow run_rate and **positive** would mean fast. The value would mean the **intensity**. (We can say a value of 3.6-6 = -2.4 means a very slow run rate. Which a value of 10.2-6 = 3.6 as a very fast run rate)\n",
        "  * For a team (chose any of your choice), visualize the distribution of negative values and do the same for positive ones. \n",
        "  * Do you find skewness? If yes, how strong is it. Discuss the interesting cases.\n",
        "* Are there instances where teams are making lots of runs at a very fast pace?\n",
        "  * Create a **scatter-plot** with **runs_made** on x-axis and **run_rate** on y-axis. \n",
        "  * The **color** of the dots should correspond to the team color\n",
        "  * Discuss the **insights** derived. Are there teams really dominating the run making?\n",
        "\n",
        "---------------------------"
      ]
    },
    {
      "cell_type": "code",
      "metadata": {
        "id": "IyEXZhPKeqQN",
        "colab_type": "code",
        "colab": {
          "base_uri": "https://localhost:8080/",
          "height": 101
        },
        "outputId": "8cf9edef-8c2b-4a67-95a2-fad7db4841dd"
      },
      "source": [
        "hist.dtypes"
      ],
      "execution_count": 100,
      "outputs": [
        {
          "output_type": "execute_result",
          "data": {
            "text/plain": [
              "Match_id      int64\n",
              "Runs          int64\n",
              "Over        float64\n",
              "Run_rate    float64\n",
              "dtype: object"
            ]
          },
          "metadata": {
            "tags": []
          },
          "execution_count": 100
        }
      ]
    },
    {
      "cell_type": "code",
      "metadata": {
        "id": "fjCxCrs7PZrO",
        "colab_type": "code",
        "colab": {}
      },
      "source": [
        "teams=list()\n",
        "match = hist.Match_id.astype(str).to_numpy()\n",
        "sum = 0\n",
        "for j in match:\n",
        "  date = j[0:4]+'-'+j[4:6]+'-'+j[6:8]\n",
        "  temp = dfmat[dfmat['match_date']==date]\n",
        "  if temp.empty == False:\n",
        "    if j[9:] == '1':\n",
        "      teams.append(temp.iloc[0]['Team 1'])\n",
        "    elif j[9:] =='2':\n",
        "      teams.append(temp.iloc[0]['Team 2'])\n",
        "    if j[9:] == '3':\n",
        "      teams.append(temp.iloc[0]['Team 1'])\n",
        "    elif j[9:] =='4':\n",
        "      teams.append(temp.iloc[0]['Team 2'])\n",
        "  elif temp.empty == True:\n",
        "    teams.append('NA')"
      ],
      "execution_count": 101,
      "outputs": []
    },
    {
      "cell_type": "code",
      "metadata": {
        "id": "MZ2eu0qPMBdV",
        "colab_type": "code",
        "colab": {
          "base_uri": "https://localhost:8080/",
          "height": 432
        },
        "outputId": "802f7262-e419-4aad-c7cf-27555a7eed42"
      },
      "source": [
        "hist['Team'] = teams\n",
        "Q12 = hist[hist['Team']!='NA']\n",
        "teams = Q12.groupby(Q12['Team']).agg('count')\n",
        "teams = teams.reset_index()\n",
        "Q12 = Q12[Q12['Run_rate']>6.0]\n",
        "Q12_1 = Q12.groupby(Q12['Team']).agg('count')\n",
        "Q12_1 = Q12_1.reset_index()\n",
        "teams['RR_gt_6'] = Q12_1['Match_id']\n",
        "teams['%fast'] = (teams['RR_gt_6']/teams['Match_id'])*100\n",
        "teams.sort_values(by = '%fast',ascending=False)"
      ],
      "execution_count": 102,
      "outputs": [
        {
          "output_type": "execute_result",
          "data": {
            "text/html": [
              "<div>\n",
              "<style scoped>\n",
              "    .dataframe tbody tr th:only-of-type {\n",
              "        vertical-align: middle;\n",
              "    }\n",
              "\n",
              "    .dataframe tbody tr th {\n",
              "        vertical-align: top;\n",
              "    }\n",
              "\n",
              "    .dataframe thead th {\n",
              "        text-align: right;\n",
              "    }\n",
              "</style>\n",
              "<table border=\"1\" class=\"dataframe\">\n",
              "  <thead>\n",
              "    <tr style=\"text-align: right;\">\n",
              "      <th></th>\n",
              "      <th>Team</th>\n",
              "      <th>Match_id</th>\n",
              "      <th>Runs</th>\n",
              "      <th>Over</th>\n",
              "      <th>Run_rate</th>\n",
              "      <th>RR_gt_6</th>\n",
              "      <th>%fast</th>\n",
              "    </tr>\n",
              "  </thead>\n",
              "  <tbody>\n",
              "    <tr>\n",
              "      <th>5</th>\n",
              "      <td>Kochi Tuskers Kerala</td>\n",
              "      <td>6</td>\n",
              "      <td>6</td>\n",
              "      <td>6</td>\n",
              "      <td>6</td>\n",
              "      <td>6</td>\n",
              "      <td>100.000000</td>\n",
              "    </tr>\n",
              "    <tr>\n",
              "      <th>10</th>\n",
              "      <td>Rising Pune Supergiant</td>\n",
              "      <td>12</td>\n",
              "      <td>12</td>\n",
              "      <td>12</td>\n",
              "      <td>12</td>\n",
              "      <td>12</td>\n",
              "      <td>100.000000</td>\n",
              "    </tr>\n",
              "    <tr>\n",
              "      <th>0</th>\n",
              "      <td>Chennai Super Kings</td>\n",
              "      <td>65</td>\n",
              "      <td>65</td>\n",
              "      <td>65</td>\n",
              "      <td>65</td>\n",
              "      <td>63</td>\n",
              "      <td>96.923077</td>\n",
              "    </tr>\n",
              "    <tr>\n",
              "      <th>11</th>\n",
              "      <td>Royal Challengers Bangalore</td>\n",
              "      <td>82</td>\n",
              "      <td>82</td>\n",
              "      <td>82</td>\n",
              "      <td>82</td>\n",
              "      <td>78</td>\n",
              "      <td>95.121951</td>\n",
              "    </tr>\n",
              "    <tr>\n",
              "      <th>9</th>\n",
              "      <td>Rajasthan Royals</td>\n",
              "      <td>59</td>\n",
              "      <td>59</td>\n",
              "      <td>59</td>\n",
              "      <td>59</td>\n",
              "      <td>56</td>\n",
              "      <td>94.915254</td>\n",
              "    </tr>\n",
              "    <tr>\n",
              "      <th>4</th>\n",
              "      <td>Kings XI Punjab</td>\n",
              "      <td>76</td>\n",
              "      <td>76</td>\n",
              "      <td>76</td>\n",
              "      <td>76</td>\n",
              "      <td>72</td>\n",
              "      <td>94.736842</td>\n",
              "    </tr>\n",
              "    <tr>\n",
              "      <th>1</th>\n",
              "      <td>Deccan Chargers</td>\n",
              "      <td>36</td>\n",
              "      <td>36</td>\n",
              "      <td>36</td>\n",
              "      <td>36</td>\n",
              "      <td>34</td>\n",
              "      <td>94.444444</td>\n",
              "    </tr>\n",
              "    <tr>\n",
              "      <th>3</th>\n",
              "      <td>Gujarat Lions</td>\n",
              "      <td>17</td>\n",
              "      <td>17</td>\n",
              "      <td>17</td>\n",
              "      <td>17</td>\n",
              "      <td>16</td>\n",
              "      <td>94.117647</td>\n",
              "    </tr>\n",
              "    <tr>\n",
              "      <th>6</th>\n",
              "      <td>Kolkata Knight Riders</td>\n",
              "      <td>69</td>\n",
              "      <td>69</td>\n",
              "      <td>69</td>\n",
              "      <td>69</td>\n",
              "      <td>64</td>\n",
              "      <td>92.753623</td>\n",
              "    </tr>\n",
              "    <tr>\n",
              "      <th>2</th>\n",
              "      <td>Delhi Capitals</td>\n",
              "      <td>77</td>\n",
              "      <td>77</td>\n",
              "      <td>77</td>\n",
              "      <td>77</td>\n",
              "      <td>71</td>\n",
              "      <td>92.207792</td>\n",
              "    </tr>\n",
              "    <tr>\n",
              "      <th>12</th>\n",
              "      <td>Sunrisers Hyderabad</td>\n",
              "      <td>36</td>\n",
              "      <td>36</td>\n",
              "      <td>36</td>\n",
              "      <td>36</td>\n",
              "      <td>33</td>\n",
              "      <td>91.666667</td>\n",
              "    </tr>\n",
              "    <tr>\n",
              "      <th>7</th>\n",
              "      <td>Mumbai Indians</td>\n",
              "      <td>71</td>\n",
              "      <td>71</td>\n",
              "      <td>71</td>\n",
              "      <td>71</td>\n",
              "      <td>65</td>\n",
              "      <td>91.549296</td>\n",
              "    </tr>\n",
              "    <tr>\n",
              "      <th>8</th>\n",
              "      <td>Pune Warriors</td>\n",
              "      <td>27</td>\n",
              "      <td>27</td>\n",
              "      <td>27</td>\n",
              "      <td>27</td>\n",
              "      <td>24</td>\n",
              "      <td>88.888889</td>\n",
              "    </tr>\n",
              "  </tbody>\n",
              "</table>\n",
              "</div>"
            ],
            "text/plain": [
              "                           Team  Match_id  Runs  ...  Run_rate  RR_gt_6       %fast\n",
              "5          Kochi Tuskers Kerala         6     6  ...         6        6  100.000000\n",
              "10       Rising Pune Supergiant        12    12  ...        12       12  100.000000\n",
              "0           Chennai Super Kings        65    65  ...        65       63   96.923077\n",
              "11  Royal Challengers Bangalore        82    82  ...        82       78   95.121951\n",
              "9              Rajasthan Royals        59    59  ...        59       56   94.915254\n",
              "4               Kings XI Punjab        76    76  ...        76       72   94.736842\n",
              "1               Deccan Chargers        36    36  ...        36       34   94.444444\n",
              "3                 Gujarat Lions        17    17  ...        17       16   94.117647\n",
              "6         Kolkata Knight Riders        69    69  ...        69       64   92.753623\n",
              "2                Delhi Capitals        77    77  ...        77       71   92.207792\n",
              "12          Sunrisers Hyderabad        36    36  ...        36       33   91.666667\n",
              "7                Mumbai Indians        71    71  ...        71       65   91.549296\n",
              "8                 Pune Warriors        27    27  ...        27       24   88.888889\n",
              "\n",
              "[13 rows x 7 columns]"
            ]
          },
          "metadata": {
            "tags": []
          },
          "execution_count": 102
        }
      ]
    },
    {
      "cell_type": "code",
      "metadata": {
        "id": "xRCZfakKN-WA",
        "colab_type": "code",
        "colab": {
          "base_uri": "https://localhost:8080/",
          "height": 195
        },
        "outputId": "dcef2e9e-462a-4a85-90d7-e1772172f5cb"
      },
      "source": [
        "teams.head()"
      ],
      "execution_count": 103,
      "outputs": [
        {
          "output_type": "execute_result",
          "data": {
            "text/html": [
              "<div>\n",
              "<style scoped>\n",
              "    .dataframe tbody tr th:only-of-type {\n",
              "        vertical-align: middle;\n",
              "    }\n",
              "\n",
              "    .dataframe tbody tr th {\n",
              "        vertical-align: top;\n",
              "    }\n",
              "\n",
              "    .dataframe thead th {\n",
              "        text-align: right;\n",
              "    }\n",
              "</style>\n",
              "<table border=\"1\" class=\"dataframe\">\n",
              "  <thead>\n",
              "    <tr style=\"text-align: right;\">\n",
              "      <th></th>\n",
              "      <th>Team</th>\n",
              "      <th>Match_id</th>\n",
              "      <th>Runs</th>\n",
              "      <th>Over</th>\n",
              "      <th>Run_rate</th>\n",
              "      <th>RR_gt_6</th>\n",
              "      <th>%fast</th>\n",
              "    </tr>\n",
              "  </thead>\n",
              "  <tbody>\n",
              "    <tr>\n",
              "      <th>0</th>\n",
              "      <td>Chennai Super Kings</td>\n",
              "      <td>65</td>\n",
              "      <td>65</td>\n",
              "      <td>65</td>\n",
              "      <td>65</td>\n",
              "      <td>63</td>\n",
              "      <td>96.923077</td>\n",
              "    </tr>\n",
              "    <tr>\n",
              "      <th>1</th>\n",
              "      <td>Deccan Chargers</td>\n",
              "      <td>36</td>\n",
              "      <td>36</td>\n",
              "      <td>36</td>\n",
              "      <td>36</td>\n",
              "      <td>34</td>\n",
              "      <td>94.444444</td>\n",
              "    </tr>\n",
              "    <tr>\n",
              "      <th>2</th>\n",
              "      <td>Delhi Capitals</td>\n",
              "      <td>77</td>\n",
              "      <td>77</td>\n",
              "      <td>77</td>\n",
              "      <td>77</td>\n",
              "      <td>71</td>\n",
              "      <td>92.207792</td>\n",
              "    </tr>\n",
              "    <tr>\n",
              "      <th>3</th>\n",
              "      <td>Gujarat Lions</td>\n",
              "      <td>17</td>\n",
              "      <td>17</td>\n",
              "      <td>17</td>\n",
              "      <td>17</td>\n",
              "      <td>16</td>\n",
              "      <td>94.117647</td>\n",
              "    </tr>\n",
              "    <tr>\n",
              "      <th>4</th>\n",
              "      <td>Kings XI Punjab</td>\n",
              "      <td>76</td>\n",
              "      <td>76</td>\n",
              "      <td>76</td>\n",
              "      <td>76</td>\n",
              "      <td>72</td>\n",
              "      <td>94.736842</td>\n",
              "    </tr>\n",
              "  </tbody>\n",
              "</table>\n",
              "</div>"
            ],
            "text/plain": [
              "                  Team  Match_id  Runs  Over  Run_rate  RR_gt_6      %fast\n",
              "0  Chennai Super Kings        65    65    65        65       63  96.923077\n",
              "1      Deccan Chargers        36    36    36        36       34  94.444444\n",
              "2       Delhi Capitals        77    77    77        77       71  92.207792\n",
              "3        Gujarat Lions        17    17    17        17       16  94.117647\n",
              "4      Kings XI Punjab        76    76    76        76       72  94.736842"
            ]
          },
          "metadata": {
            "tags": []
          },
          "execution_count": 103
        }
      ]
    },
    {
      "cell_type": "code",
      "metadata": {
        "id": "U_gBesSeOE6A",
        "colab_type": "code",
        "colab": {}
      },
      "source": [
        "hist['dist_base_line'] = hist['Run_rate'] - 6.0\n",
        "hist_MI = hist[hist['Team']=='Mumbai Indians']\n",
        "hist_MI_P = hist_MI[hist_MI['dist_base_line']>0]\n",
        "hist_MI_N = hist_MI[hist_MI['dist_base_line']<0]"
      ],
      "execution_count": 104,
      "outputs": []
    },
    {
      "cell_type": "code",
      "metadata": {
        "id": "SctbC5IEOc2x",
        "colab_type": "code",
        "colab": {
          "base_uri": "https://localhost:8080/",
          "height": 513
        },
        "outputId": "f771cae5-d7dd-4e35-cd98-fc6eee96626f"
      },
      "source": [
        "plt.hist(hist_MI_P['dist_base_line'])\n",
        "plt.show()\n",
        "plt.hist(hist_MI_N['dist_base_line'])\n",
        "plt.show()"
      ],
      "execution_count": 105,
      "outputs": [
        {
          "output_type": "display_data",
          "data": {
            "image/png": "[encoded data removed]",
            "text/plain": [
              "<Figure size 432x288 with 1 Axes>"
            ]
          },
          "metadata": {
            "tags": [],
            "needs_background": "light"
          }
        },
        {
          "output_type": "display_data",
          "data": {
            "image/png": "[encoded data removed]",
            "text/plain": [
              "<Figure size 432x288 with 1 Axes>"
            ]
          },
          "metadata": {
            "tags": [],
            "needs_background": "light"
          }
        }
      ]
    },
    {
      "cell_type": "code",
      "metadata": {
        "id": "HVvAPWCVOnHw",
        "colab_type": "code",
        "colab": {
          "base_uri": "https://localhost:8080/",
          "height": 623
        },
        "outputId": "9c584fde-4b73-47af-a7ae-a9a13e79da26"
      },
      "source": [
        "scatterplt = hist[hist['Team']!='NA']\n",
        "import seaborn as sns\n",
        "plt.figure(figsize=(10,10))\n",
        "sns.scatterplot(x=\"Runs\", y=\"Run_rate\", hue=\"Team\", data=scatterplt,palette=['aqua','green','orange','brown','dodgerblue','red','blue','yellow','pink','gray','violet','black','indigo'], legend='full')"
      ],
      "execution_count": 109,
      "outputs": [
        {
          "output_type": "execute_result",
          "data": {
            "text/plain": [
              "<matplotlib.axes._subplots.AxesSubplot at 0x7f457816dcf8>"
            ]
          },
          "metadata": {
            "tags": []
          },
          "execution_count": 109
        },
        {
          "output_type": "display_data",
          "data": {
            "image/png": "[encoded data removed]",
            "text/plain": [
              "<Figure size 720x720 with 1 Axes>"
            ]
          },
          "metadata": {
            "tags": [],
            "needs_background": "light"
          }
        }
      ]
    },
    {
      "cell_type": "markdown",
      "metadata": {
        "colab_type": "text",
        "id": "ZoWklGAYU0Xk"
      },
      "source": [
        "### **Question 13**\n",
        "* Let's analyze whether higher run_rate lead to victory?\n",
        "* Create a visualization to analyze run_rates of teams in matches which it won against the ones it lost. (Hint : Box plots)\n",
        "* Discuss your insights :\n",
        "  * Is there a team which is really winning based on a higher run_rate maintained by them?\n",
        "  * Think about a **statistical test of significance** which can help you evaluate the hypothesis mentioned in the 1st point.\n",
        "    * **Reference 1 :** [Understanding the tests of significance](https://towardsdatascience.com/statistical-significance-hypothesis-testing-the-normal-curve-and-p-values-93274fa32687)\n",
        "    * **Reference 2 :** [When to apply what?](https://towardsdatascience.com/statistical-tests-when-to-use-which-704557554740)\n",
        "    * **Reference 3 :** [Understanding T-test](https://www.analyticsvidhya.com/blog/2020/06/statistics-analytics-hypothesis-testing-z-test-t-test/?utm_source=feedburner&utm_medium=email&utm_campaign=Feed%3A+AnalyticsVidhya+%28Analytics+Vidhya%29)\n",
        "  * **(Optional)**. Implement the test and explain your result\n",
        "\n",
        "------------------"
      ]
    },
    {
      "cell_type": "code",
      "metadata": {
        "id": "cYgdgNou-tQ7",
        "colab_type": "code",
        "colab": {}
      },
      "source": [
        "from collections import defaultdict\n",
        "import matplotlib.pyplot as plt\n",
        "dfdel = pd.read_csv('drive/My Drive/data/ipl_deliveries.csv')"
      ],
      "execution_count": 110,
      "outputs": []
    },
    {
      "cell_type": "code",
      "metadata": {
        "id": "0IshwnsuWfnL",
        "colab_type": "code",
        "colab": {
          "base_uri": "https://localhost:8080/",
          "height": 235
        },
        "outputId": "04bb4df5-e0db-4522-eccf-276576556bcc"
      },
      "source": [
        "ball_count = dfdel.groupby(['Match_id','Winner', 'Team'])\n",
        "bc1 = ball_count['Delivery'].count()\n",
        "bc1"
      ],
      "execution_count": 111,
      "outputs": [
        {
          "output_type": "execute_result",
          "data": {
            "text/plain": [
              "Match_id    Winner                 Team                       \n",
              "2008041801  Kolkata Knight Riders  Kolkata Knight Riders          124\n",
              "                                   Royal Challengers Bangalore    101\n",
              "2008041901  Chennai Super Kings    Chennai Super Kings            124\n",
              "                                   Kings XI Punjab                124\n",
              "2008041902  Delhi Daredevils       Delhi Daredevils                97\n",
              "                                                                 ... \n",
              "2017051701  Kolkata Knight Riders  Sunrisers Hyderabad            122\n",
              "2017051901  Mumbai Indians         Kolkata Knight Riders          116\n",
              "                                   Mumbai Indians                  91\n",
              "2017052101  Mumbai Indians         Mumbai Indians                 125\n",
              "                                   Rising Pune Supergiant         123\n",
              "Name: Delivery, Length: 1266, dtype: int64"
            ]
          },
          "metadata": {
            "tags": []
          },
          "execution_count": 111
        }
      ]
    },
    {
      "cell_type": "code",
      "metadata": {
        "id": "cCc-DJoI-SYt",
        "colab_type": "code",
        "colab": {
          "base_uri": "https://localhost:8080/",
          "height": 235
        },
        "outputId": "a5aca483-c79c-43d6-ebe6-d066de3bddf4"
      },
      "source": [
        "ball_count = dfdel.groupby(['Match_id','Winner', 'Team'])\n",
        "rc1 = ball_count['Runs_total'].mean()\n",
        "rc1"
      ],
      "execution_count": 112,
      "outputs": [
        {
          "output_type": "execute_result",
          "data": {
            "text/plain": [
              "Match_id    Winner                 Team                       \n",
              "2008041801  Kolkata Knight Riders  Kolkata Knight Riders          1.790323\n",
              "                                   Royal Challengers Bangalore    0.811881\n",
              "2008041901  Chennai Super Kings    Chennai Super Kings            1.935484\n",
              "                                   Kings XI Punjab                1.669355\n",
              "2008041902  Delhi Daredevils       Delhi Daredevils               1.360825\n",
              "                                                                    ...   \n",
              "2017051701  Kolkata Knight Riders  Sunrisers Hyderabad            1.049180\n",
              "2017051901  Mumbai Indians         Kolkata Knight Riders          0.922414\n",
              "                                   Mumbai Indians                 1.219780\n",
              "2017052101  Mumbai Indians         Mumbai Indians                 1.032000\n",
              "                                   Rising Pune Supergiant         1.040650\n",
              "Name: Runs_total, Length: 1266, dtype: float64"
            ]
          },
          "metadata": {
            "tags": []
          },
          "execution_count": 112
        }
      ]
    },
    {
      "cell_type": "code",
      "metadata": {
        "id": "S0oUWE0r-Syg",
        "colab_type": "code",
        "colab": {}
      },
      "source": [
        "dic_wonwith = defaultdict(list)\n",
        "dic_lostwith = defaultdict(list)\n",
        "\n",
        "dic_wonagainst = defaultdict(list)\n",
        "dic_lostagainst = defaultdict(list)"
      ],
      "execution_count": 113,
      "outputs": []
    },
    {
      "cell_type": "code",
      "metadata": {
        "id": "pkNr7fFf-S52",
        "colab_type": "code",
        "colab": {}
      },
      "source": [
        "for val in rc1.iteritems():\n",
        "  if val[0][1] != val[0][2]:\n",
        "    dic_wonagainst[val[0][1]].append(val[1]*6)\n",
        "    dic_lostwith[val[0][2]].append(val[1]*6)\n",
        "  else:\n",
        "    dic_wonwith[val[0][2]].append(val[1]*6) \n",
        "\n",
        "  for x in rc1.iteritems():\n",
        "    if x[0][1] == x[0][2] and x[0][0] == val[0][0]:\n",
        "      dic_lostagainst[val[0][2]].append(x[1]*6)\n",
        "      break"
      ],
      "execution_count": 114,
      "outputs": []
    },
    {
      "cell_type": "code",
      "metadata": {
        "id": "UI_HSjtJ-TI0",
        "colab_type": "code",
        "colab": {
          "base_uri": "https://localhost:8080/",
          "height": 425
        },
        "outputId": "74dcfa71-6ec4-4f25-e03a-72b6aabebb8d"
      },
      "source": [
        "labels, data = [*zip(*dic_wonwith.items())]  # 'transpose' items to parallel key, value lists\n",
        "\n",
        "plt.figure(num=None, figsize=(35, 10), dpi=80, facecolor='w', edgecolor='k')\n",
        "# or backwards compatable\n",
        "\n",
        "plt.boxplot(data)\n",
        "plt.xticks(range(1, len(labels) + 1), labels)\n",
        "plt.show()"
      ],
      "execution_count": 117,
      "outputs": [
        {
          "output_type": "display_data",
          "data": {
            "image/png": "[encoded data removed]",
            "text/plain": [
              "<Figure size 2800x800 with 1 Axes>"
            ]
          },
          "metadata": {
            "tags": []
          }
        }
      ]
    },
    {
      "cell_type": "code",
      "metadata": {
        "id": "flihOh9nA2db",
        "colab_type": "code",
        "colab": {
          "base_uri": "https://localhost:8080/",
          "height": 425
        },
        "outputId": "0c268f6b-71ef-4ee6-c561-64d74dfa6f04"
      },
      "source": [
        "labels, data = [*zip(*dic_wonagainst.items())]  # 'transpose' items to parallel key, value lists\n",
        "\n",
        "plt.figure(num=None, figsize=(35, 10), dpi=80, facecolor='w', edgecolor='k')\n",
        "# or backwards compatable\n",
        "\n",
        "plt.boxplot(data)\n",
        "# pyplot.set_size(18.5, 10.5)\n",
        "plt.xticks(range(1, len(labels) + 1), labels)\n",
        "plt.show()"
      ],
      "execution_count": 118,
      "outputs": [
        {
          "output_type": "display_data",
          "data": {
            "image/png": "[encoded data removed]",
            "text/plain": [
              "<Figure size 2800x800 with 1 Axes>"
            ]
          },
          "metadata": {
            "tags": []
          }
        }
      ]
    },
    {
      "cell_type": "markdown",
      "metadata": {
        "id": "8hGgVsakYgU5",
        "colab_type": "text"
      },
      "source": [
        "### **Question 14**\n",
        "* **Virat Kohli** is known to be a **master chaser**. Is it so? Let's validate through raw data\n",
        "* Visualize the runs made by Virat Kohli in matches where his team played the **1st innings** (Hint : Use histograms)\n",
        "* Visualize the runs made by Virat Kohli in matches where his team played the **2nd innings**. (Note : the 2 histograms should be plotted in the same figure)\n",
        "* Interpret the histograms. Do they look cleanly **separated**?\n",
        "* Create a **1X2** subplot : \n",
        "  * In subplot **(1,1)** plot the two histograms for the matches which his team won\n",
        "  * In subplot **(1,2)** plot the two histograms for the matches which his team lost\n",
        "  * **Discuss** your findings\n",
        "    * Has Kohli been a great chaser **only** in matches won?\n",
        "* Calculate Kohli's **run contribution(%)** for all matches played by him\n",
        "  * Draw a violin plot of his **run_contribution(%)** for two categories : \n",
        "    * Matches **won** by his team\n",
        "    * Matches **lost** by his team\n",
        "  * Draw a **scatter plot** showing **run_contribution(%)** on **X-axis** and **strike_rate** on **y-axis**. Define **color** of dots as : \n",
        "    * **Green :** For matches won\n",
        "    * **Red :** For matches lost\n",
        "  * Discuss your insights. Do you think he has been playing captain's innings?\n"
      ]
    },
    {
      "cell_type": "code",
      "metadata": {
        "id": "P8gOGsTgrhFN",
        "colab_type": "code",
        "colab": {}
      },
      "source": [
        "import seaborn as sns\n",
        "dfdel = pd.read_csv('drive/My Drive/data/ipl_deliveries.csv')\n",
        "kohli_df = dfdel[dfdel['Batsman'] == 'V Kohli']"
      ],
      "execution_count": 119,
      "outputs": []
    },
    {
      "cell_type": "code",
      "metadata": {
        "id": "D68ulutRDFvK",
        "colab_type": "code",
        "colab": {
          "base_uri": "https://localhost:8080/",
          "height": 351
        },
        "outputId": "d7795191-1173-4b79-e942-6a59719d2524"
      },
      "source": [
        "kohli_i1_df = kohli_df[kohli_df['Innings'] == 1]\n",
        "kohli_i2_df = kohli_df[kohli_df['Innings'] == 2]\n",
        "\n",
        "runs_i1 = kohli_i1_df.groupby('Match_id')['runs_batsman'].sum()\n",
        "runs_i2 = kohli_i2_df.groupby('Match_id')['runs_batsman'].sum()\n",
        "\n",
        "plt.figure(figsize=(5,5))\n",
        "plt.hist(runs_i1, bins=10, alpha=0.5, label = 'Inning 1', color = 'b')\n",
        "plt.hist(runs_i2, bins=10, alpha=0.5, label = 'Inning 2', color = 'g')\n",
        "plt.xticks(range(0,130,10))\n",
        "plt.yticks(range(0,21,2))\n",
        "plt.xlabel('Runs')\n",
        "plt.ylabel('Count')\n",
        "plt.legend(loc='upper right')"
      ],
      "execution_count": 120,
      "outputs": [
        {
          "output_type": "execute_result",
          "data": {
            "text/plain": [
              "<matplotlib.legend.Legend at 0x7f457781f400>"
            ]
          },
          "metadata": {
            "tags": []
          },
          "execution_count": 120
        },
        {
          "output_type": "display_data",
          "data": {
            "image/png": "[encoded data removed]",
            "text/plain": [
              "<Figure size 360x360 with 1 Axes>"
            ]
          },
          "metadata": {
            "tags": [],
            "needs_background": "light"
          }
        }
      ]
    },
    {
      "cell_type": "markdown",
      "metadata": {
        "id": "kni5L5ykuvFA",
        "colab_type": "text"
      },
      "source": [
        "### **Question 15 (Bonus Question)**\n",
        "* Consider you are part of **team selection committee** for your team\n",
        "* You are required to suggest **best nominations** for selection of **batsmen** during the team auctions\n",
        "* Your team owner wants a **good mix** of batsmen who can exhibit the below **traits** :\n",
        "  * Aggression\n",
        "  * Consistency\n",
        "  * Can hit at will\n",
        "  * Pinch hitters\n",
        "  * Sheet Anchors\n",
        "  * Match finishers\n",
        "* Use the data provided to you to create an exhaustive **list of metrics** which can demonstrate **quality** of a given batsman\n",
        "* Apply **suitable machine learning** techniques to generate **clusters** of batsmen\n",
        "* **Analyze** the clusters for **batting traits** and name them suitably\n",
        "* **Discuss** your outcomes "
      ]
    },
    {
      "cell_type": "code",
      "metadata": {
        "colab_type": "code",
        "id": "-jVmk9zkwp_V",
        "colab": {}
      },
      "source": [
        "# write your code here. Feel free to add multiple cells as per your need\n"
      ],
      "execution_count": null,
      "outputs": []
    }
  ]
}